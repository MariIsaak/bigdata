{
 "cells": [
  {
   "cell_type": "markdown",
   "id": "c7da1f9a",
   "metadata": {},
   "source": [
    "# Лабораторная работа №6\n",
    "## Задание 3"
   ]
  },
  {
   "cell_type": "markdown",
   "id": "e1599e71",
   "metadata": {},
   "source": [
    "## Перекрестная проверка и создание датасета"
   ]
  },
  {
   "cell_type": "code",
   "execution_count": 100,
   "id": "66134537",
   "metadata": {},
   "outputs": [],
   "source": [
    "import pandas as pd\n",
    "import random\n",
    "from sklearn.model_selection import train_test_split\n",
    "from sklearn.ensemble import RandomForestClassifier\n",
    "from sklearn.metrics import accuracy_score\n",
    "# Создание случайного датасета\n",
    "data = {\n",
    "    'salary': [random.randint(30000, 80000) for _ in range(1000)],\n",
    "    'city': [random.choice(['Bishkek', 'London', 'Moscow']) for _ in range(1000)],\n",
    "    'age': [random.randint(30, 65) for _ in range(1000)],\n",
    "    'vacation_prefer': [random.choice(['Shopping', 'Beach holiday']) for _ in range(1000)],\n",
    "    'transport_prefer': [random.choice(['auto', 'plane']) for _ in range(1000)],\n",
    "    'target': [random.choice(['London', 'Moscow']) for _ in range(1000)]\n",
    "}\n",
    "\n",
    "# Создание DataFrame из сгенерированных данных\n",
    "df = pd.DataFrame(data)\n",
    "# Преобразование категориальных данных в числовые\n",
    "df_encoded = pd.get_dummies(df, columns=['city', 'vacation_prefer', 'transport_prefer'])\n"
   ]
  },
  {
   "cell_type": "code",
   "execution_count": 101,
   "id": "a2556d58",
   "metadata": {},
   "outputs": [
    {
     "name": "stdout",
     "output_type": "stream",
     "text": [
      "Accuracy: 0.5350\n"
     ]
    }
   ],
   "source": [
    "# Выделение признаков (X) и целевой переменной (y)\n",
    "X = df_encoded.drop('target', axis=1)\n",
    "y = df_encoded['target']\n",
    "\n",
    "# Разделение на обучающую и тестовую выборки (80% - обучающая, 20% - тестовая)\n",
    "X_train, X_test, y_train, y_test = train_test_split(X, y, test_size=0.2, random_state=38)\n",
    "# Инициализация модели классификатора\n",
    "clf = RandomForestClassifier(n_estimators=100, random_state=38)\n",
    "\n",
    "# Обучение модели на обучающей выборке\n",
    "clf.fit(X_train, y_train)\n",
    "\n",
    "# Предсказание на тестовой выборке\n",
    "y_pred = clf.predict(X_test)\n",
    "\n",
    "# Оценка производительности модели\n",
    "accuracy = accuracy_score(y_test, y_pred)\n",
    "print(f'Accuracy: {accuracy:.4f}')\n"
   ]
  },
  {
   "cell_type": "code",
   "execution_count": 102,
   "id": "4942fdf3",
   "metadata": {},
   "outputs": [
    {
     "name": "stdout",
     "output_type": "stream",
     "text": [
      "Cross-validation scores: [0.5   0.495 0.5   0.5   0.5  ]\n"
     ]
    }
   ],
   "source": [
    "import mglearn \n",
    "from sklearn.model_selection import cross_val_score\n",
    "from sklearn.linear_model import LogisticRegression\n",
    "\n",
    "logreg = LogisticRegression(max_iter=10000)\n",
    "\n",
    "scores = cross_val_score(logreg, X, y)\n",
    "print(\"Cross-validation scores: {}\".format(scores))"
   ]
  },
  {
   "cell_type": "code",
   "execution_count": 103,
   "id": "77de6643",
   "metadata": {},
   "outputs": [
    {
     "name": "stdout",
     "output_type": "stream",
     "text": [
      "Cross-validation scores: [0.5   0.495 0.5   0.5   0.5  ]\n",
      "Средняя правильность перекрестной проверки: 0.50\n"
     ]
    },
    {
     "data": {
      "text/plain": [
       "{'fit_time': array([0.00443172, 0.01672387, 0.00627613, 0.00554895, 0.00844812]),\n",
       " 'score_time': array([0.00801301, 0.00571728, 0.        , 0.        , 0.        ]),\n",
       " 'test_score': array([0.5  , 0.495, 0.5  , 0.5  , 0.5  ]),\n",
       " 'train_score': array([0.5   , 0.4775, 0.5   , 0.5   , 0.5   ])}"
      ]
     },
     "metadata": {},
     "output_type": "display_data"
    }
   ],
   "source": [
    "scores = cross_val_score(logreg, X, y, cv=5)\n",
    "print(\"Cross-validation scores: {}\".format(scores))\n",
    "print(\"Средняя правильность перекрестной проверки: {:.2f}\".format(scores.mean()))\n",
    "from sklearn.model_selection import cross_validate\n",
    "res = cross_validate(logreg, X, y, cv=5, return_train_score=True)\n",
    "display(res)"
   ]
  },
  {
   "cell_type": "code",
   "execution_count": 104,
   "id": "53f951db",
   "metadata": {},
   "outputs": [
    {
     "data": {
      "text/html": [
       "<div>\n",
       "<style scoped>\n",
       "    .dataframe tbody tr th:only-of-type {\n",
       "        vertical-align: middle;\n",
       "    }\n",
       "\n",
       "    .dataframe tbody tr th {\n",
       "        vertical-align: top;\n",
       "    }\n",
       "\n",
       "    .dataframe thead th {\n",
       "        text-align: right;\n",
       "    }\n",
       "</style>\n",
       "<table border=\"1\" class=\"dataframe\">\n",
       "  <thead>\n",
       "    <tr style=\"text-align: right;\">\n",
       "      <th></th>\n",
       "      <th>fit_time</th>\n",
       "      <th>score_time</th>\n",
       "      <th>test_score</th>\n",
       "      <th>train_score</th>\n",
       "    </tr>\n",
       "  </thead>\n",
       "  <tbody>\n",
       "    <tr>\n",
       "      <th>0</th>\n",
       "      <td>0.004432</td>\n",
       "      <td>0.008013</td>\n",
       "      <td>0.500</td>\n",
       "      <td>0.5000</td>\n",
       "    </tr>\n",
       "    <tr>\n",
       "      <th>1</th>\n",
       "      <td>0.016724</td>\n",
       "      <td>0.005717</td>\n",
       "      <td>0.495</td>\n",
       "      <td>0.4775</td>\n",
       "    </tr>\n",
       "    <tr>\n",
       "      <th>2</th>\n",
       "      <td>0.006276</td>\n",
       "      <td>0.000000</td>\n",
       "      <td>0.500</td>\n",
       "      <td>0.5000</td>\n",
       "    </tr>\n",
       "    <tr>\n",
       "      <th>3</th>\n",
       "      <td>0.005549</td>\n",
       "      <td>0.000000</td>\n",
       "      <td>0.500</td>\n",
       "      <td>0.5000</td>\n",
       "    </tr>\n",
       "    <tr>\n",
       "      <th>4</th>\n",
       "      <td>0.008448</td>\n",
       "      <td>0.000000</td>\n",
       "      <td>0.500</td>\n",
       "      <td>0.5000</td>\n",
       "    </tr>\n",
       "  </tbody>\n",
       "</table>\n",
       "</div>"
      ],
      "text/plain": [
       "   fit_time  score_time  test_score  train_score\n",
       "0  0.004432    0.008013       0.500       0.5000\n",
       "1  0.016724    0.005717       0.495       0.4775\n",
       "2  0.006276    0.000000       0.500       0.5000\n",
       "3  0.005549    0.000000       0.500       0.5000\n",
       "4  0.008448    0.000000       0.500       0.5000"
      ]
     },
     "metadata": {},
     "output_type": "display_data"
    },
    {
     "name": "stdout",
     "output_type": "stream",
     "text": [
      "Mean times and scores:\n",
      " fit_time       0.008286\n",
      "score_time     0.002746\n",
      "test_score     0.499000\n",
      "train_score    0.495500\n",
      "dtype: float64\n",
      "метки wine:\n",
      "0      London\n",
      "1      London\n",
      "2      Moscow\n",
      "3      London\n",
      "4      London\n",
      "        ...  \n",
      "995    London\n",
      "996    Moscow\n",
      "997    London\n",
      "998    Moscow\n",
      "999    London\n",
      "Name: target, Length: 1000, dtype: object\n"
     ]
    }
   ],
   "source": [
    "import pandas as pd\n",
    "res_df = pd.DataFrame(res)\n",
    "display(res_df)\n",
    "print(\"Mean times and scores:\\n\", res_df.mean())\n",
    "\n",
    "print(\"метки wine:\\n{}\".format(df.target))"
   ]
  },
  {
   "cell_type": "code",
   "execution_count": 105,
   "id": "dc15f7e2",
   "metadata": {},
   "outputs": [
    {
     "name": "stdout",
     "output_type": "stream",
     "text": [
      "значения правильности перекрестной проверки:\n",
      "[0.48  0.45  0.465 0.48  0.46 ]\n",
      "значения правильности перекрестной проверки :\n",
      "[0.49401198 0.48348348 0.47447447]\n",
      "значения правильности перекрестной проверки:\n",
      "[0.47005988 0.44444444 0.47447447]\n"
     ]
    }
   ],
   "source": [
    "from sklearn.model_selection import KFold\n",
    "kfold = KFold(n_splits=5)\n",
    "print(\"значения правильности перекрестной проверки:\\n{}\".format(cross_val_score(logreg, X, y, cv=kfold)))\n",
    "kfold = KFold(n_splits=3)\n",
    "print(\"значения правильности перекрестной проверки :\\n{}\".format(cross_val_score(logreg, X, y, cv=kfold)))\n",
    "kfold = KFold(n_splits=3, shuffle=True, random_state=42)\n",
    "print(\"значения правильности перекрестной проверки:\\n{}\".format(cross_val_score(logreg, X, y, cv=kfold)))"
   ]
  },
  {
   "cell_type": "code",
   "execution_count": 106,
   "id": "12f1e95d",
   "metadata": {},
   "outputs": [
    {
     "name": "stdout",
     "output_type": "stream",
     "text": [
      "значения правильности перекрестной проверки: \n",
      "[0.486 0.458 0.492 0.516 0.486 0.5   0.494 0.52  0.478 0.464]\n"
     ]
    }
   ],
   "source": [
    "from sklearn.model_selection import ShuffleSplit\n",
    "shuffle_split = ShuffleSplit(test_size=.5, train_size=.5, n_splits=10)\n",
    "scores = cross_val_score(logreg, X, y, cv=shuffle_split)\n",
    "print(\"значения правильности перекрестной проверки: \\n{}\".format(scores))"
   ]
  },
  {
   "cell_type": "code",
   "execution_count": 107,
   "id": "0692aae0",
   "metadata": {},
   "outputs": [
    {
     "name": "stdout",
     "output_type": "stream",
     "text": [
      "Количество итераций:  1000\n",
      "Средняя правильность: 0.28\n"
     ]
    }
   ],
   "source": [
    "from sklearn.model_selection import LeaveOneOut\n",
    "loo= LeaveOneOut()\n",
    "scores = cross_val_score(logreg,X,y, cv=loo)\n",
    "print(\"Количество итераций: \", len(scores))\n",
    "print(\"Средняя правильность: {:.2f}\".format(scores.mean()))"
   ]
  },
  {
   "cell_type": "markdown",
   "id": "db1ca002",
   "metadata": {},
   "source": [
    "## Решетчатый поиск"
   ]
  },
  {
   "cell_type": "code",
   "execution_count": 108,
   "id": "7aafdd9b",
   "metadata": {},
   "outputs": [
    {
     "name": "stdout",
     "output_type": "stream",
     "text": [
      "размер обучающего набора:750 размер тестового набора :250\n",
      "наилучшее значение правильности: 0.52\n",
      "наилучшее значение параметров: {'C': 1, 'gamma': 0.001}\n"
     ]
    }
   ],
   "source": [
    "from sklearn.svm import SVC\n",
    "from sklearn.model_selection import train_test_split\n",
    "X_train,X_test,y_train,y_test = train_test_split(X,y, random_state=0)\n",
    "print(\"размер обучающего набора:{} размер тестового набора :{}\".format(X_train.shape[0], X_test.shape[0]))\n",
    "best_score =0\n",
    "for gamma in [0.001, 0.01, 0.1, 1, 10,100]:\n",
    "    for C in [0.001, 0.01, 0.1, 1, 10,100]:\n",
    "        \n",
    "        svm=SVC(gamma=gamma, C=C)\n",
    "        svm.fit(X_train, y_train)\n",
    "        \n",
    "        score = svm.score(X_test, y_test)\n",
    "        \n",
    "        if score> best_score:\n",
    "            best_score=score\n",
    "            best_parameters = {'C': C, 'gamma': gamma}\n",
    "            \n",
    "print(\"наилучшее значение правильности: {:.2f}\".format(best_score))\n",
    "print(\"наилучшее значение параметров: {}\".format(best_parameters))"
   ]
  },
  {
   "cell_type": "code",
   "execution_count": 109,
   "id": "7202ded7",
   "metadata": {},
   "outputs": [
    {
     "name": "stdout",
     "output_type": "stream",
     "text": [
      "Размер обучающего набора: 562 размер проверочного набора: 188 размер тестового набора:250\n",
      "\n",
      "лучшее значение правильности на проверочном наборе: 0.52\n",
      "наилучшее значение параметров: {'C': 1, 'gamma': 0.01}\n",
      "правильность на тестовом наборе с наилучшими параметрами: 0.47\n"
     ]
    }
   ],
   "source": [
    "from sklearn.svm import SVC\n",
    "X_trainval, X_test, y_trainval, y_test= train_test_split(X,y, random_state=0)\n",
    "\n",
    "X_train, X_valid, y_train, y_valid= train_test_split(X_trainval, y_trainval,random_state=1)\n",
    "print(\"Размер обучающего набора: {} размер проверочного набора: {} размер тестового набора:\" \"{}\\n\".format(X_train.shape[0], X_valid.shape[0], X_test.shape[0]))\n",
    "best_score = 0\n",
    "for gamma in [0.001, 0.01, 0.1, 1, 10, 100]:\n",
    "    for C in [0.001, 0.01, 0.1, 1, 10, 100]:\n",
    "        \n",
    "        svm=SVC(gamma=gamma, C=C)\n",
    "        svm.fit(X_train, y_train)\n",
    "        \n",
    "        score = svm.score(X_valid, y_valid)\n",
    "        \n",
    "        if score> best_score:\n",
    "            best_score=score\n",
    "            best_parameters = {'C': C, 'gamma': gamma}\n",
    "            \n",
    "svm = SVC(**best_parameters)\n",
    "svm.fit(X_trainval, y_trainval)\n",
    "test_score=svm.score(X_test, y_test)\n",
    "\n",
    "            \n",
    "print(\"лучшее значение правильности на проверочном наборе: {:.2f}\".format(best_score))\n",
    "print(\"наилучшее значение параметров: {}\".format(best_parameters))\n",
    "print(\"правильность на тестовом наборе с наилучшими параметрами: {:.2f}\".format(test_score))"
   ]
  },
  {
   "cell_type": "code",
   "execution_count": 110,
   "id": "2cad00af",
   "metadata": {},
   "outputs": [
    {
     "data": {
      "text/html": [
       "<style>#sk-container-id-8 {color: black;}#sk-container-id-8 pre{padding: 0;}#sk-container-id-8 div.sk-toggleable {background-color: white;}#sk-container-id-8 label.sk-toggleable__label {cursor: pointer;display: block;width: 100%;margin-bottom: 0;padding: 0.3em;box-sizing: border-box;text-align: center;}#sk-container-id-8 label.sk-toggleable__label-arrow:before {content: \"▸\";float: left;margin-right: 0.25em;color: #696969;}#sk-container-id-8 label.sk-toggleable__label-arrow:hover:before {color: black;}#sk-container-id-8 div.sk-estimator:hover label.sk-toggleable__label-arrow:before {color: black;}#sk-container-id-8 div.sk-toggleable__content {max-height: 0;max-width: 0;overflow: hidden;text-align: left;background-color: #f0f8ff;}#sk-container-id-8 div.sk-toggleable__content pre {margin: 0.2em;color: black;border-radius: 0.25em;background-color: #f0f8ff;}#sk-container-id-8 input.sk-toggleable__control:checked~div.sk-toggleable__content {max-height: 200px;max-width: 100%;overflow: auto;}#sk-container-id-8 input.sk-toggleable__control:checked~label.sk-toggleable__label-arrow:before {content: \"▾\";}#sk-container-id-8 div.sk-estimator input.sk-toggleable__control:checked~label.sk-toggleable__label {background-color: #d4ebff;}#sk-container-id-8 div.sk-label input.sk-toggleable__control:checked~label.sk-toggleable__label {background-color: #d4ebff;}#sk-container-id-8 input.sk-hidden--visually {border: 0;clip: rect(1px 1px 1px 1px);clip: rect(1px, 1px, 1px, 1px);height: 1px;margin: -1px;overflow: hidden;padding: 0;position: absolute;width: 1px;}#sk-container-id-8 div.sk-estimator {font-family: monospace;background-color: #f0f8ff;border: 1px dotted black;border-radius: 0.25em;box-sizing: border-box;margin-bottom: 0.5em;}#sk-container-id-8 div.sk-estimator:hover {background-color: #d4ebff;}#sk-container-id-8 div.sk-parallel-item::after {content: \"\";width: 100%;border-bottom: 1px solid gray;flex-grow: 1;}#sk-container-id-8 div.sk-label:hover label.sk-toggleable__label {background-color: #d4ebff;}#sk-container-id-8 div.sk-serial::before {content: \"\";position: absolute;border-left: 1px solid gray;box-sizing: border-box;top: 0;bottom: 0;left: 50%;z-index: 0;}#sk-container-id-8 div.sk-serial {display: flex;flex-direction: column;align-items: center;background-color: white;padding-right: 0.2em;padding-left: 0.2em;position: relative;}#sk-container-id-8 div.sk-item {position: relative;z-index: 1;}#sk-container-id-8 div.sk-parallel {display: flex;align-items: stretch;justify-content: center;background-color: white;position: relative;}#sk-container-id-8 div.sk-item::before, #sk-container-id-8 div.sk-parallel-item::before {content: \"\";position: absolute;border-left: 1px solid gray;box-sizing: border-box;top: 0;bottom: 0;left: 50%;z-index: -1;}#sk-container-id-8 div.sk-parallel-item {display: flex;flex-direction: column;z-index: 1;position: relative;background-color: white;}#sk-container-id-8 div.sk-parallel-item:first-child::after {align-self: flex-end;width: 50%;}#sk-container-id-8 div.sk-parallel-item:last-child::after {align-self: flex-start;width: 50%;}#sk-container-id-8 div.sk-parallel-item:only-child::after {width: 0;}#sk-container-id-8 div.sk-dashed-wrapped {border: 1px dashed gray;margin: 0 0.4em 0.5em 0.4em;box-sizing: border-box;padding-bottom: 0.4em;background-color: white;}#sk-container-id-8 div.sk-label label {font-family: monospace;font-weight: bold;display: inline-block;line-height: 1.2em;}#sk-container-id-8 div.sk-label-container {text-align: center;}#sk-container-id-8 div.sk-container {/* jupyter's `normalize.less` sets `[hidden] { display: none; }` but bootstrap.min.css set `[hidden] { display: none !important; }` so we also need the `!important` here to be able to override the default hidden behavior on the sphinx rendered scikit-learn.org. See: https://github.com/scikit-learn/scikit-learn/issues/21755 */display: inline-block !important;position: relative;}#sk-container-id-8 div.sk-text-repr-fallback {display: none;}</style><div id=\"sk-container-id-8\" class=\"sk-top-container\"><div class=\"sk-text-repr-fallback\"><pre>SVC(C=1, gamma=0.01)</pre><b>In a Jupyter environment, please rerun this cell to show the HTML representation or trust the notebook. <br />On GitHub, the HTML representation is unable to render, please try loading this page with nbviewer.org.</b></div><div class=\"sk-container\" hidden><div class=\"sk-item\"><div class=\"sk-estimator sk-toggleable\"><input class=\"sk-toggleable__control sk-hidden--visually\" id=\"sk-estimator-id-14\" type=\"checkbox\" checked><label for=\"sk-estimator-id-14\" class=\"sk-toggleable__label sk-toggleable__label-arrow\">SVC</label><div class=\"sk-toggleable__content\"><pre>SVC(C=1, gamma=0.01)</pre></div></div></div></div></div>"
      ],
      "text/plain": [
       "SVC(C=1, gamma=0.01)"
      ]
     },
     "execution_count": 110,
     "metadata": {},
     "output_type": "execute_result"
    }
   ],
   "source": [
    "from sklearn.model_selection import cross_val_score\n",
    "from sklearn.svm import SVC\n",
    "import numpy as np\n",
    "for gamma in [0.001,0.01, 0.1, 1, 10,100]:\n",
    "    for C in [0.001,0.01, 0.1, 1, 10,100]:\n",
    "        \n",
    "        svm=SVC(gamma=gamma, C=C)\n",
    "        \n",
    "        \n",
    "        scores = cross_val_score(svm, X_trainval, y_trainval, cv=10)\n",
    "        score=np.mean(scores)\n",
    "        \n",
    "        if score> best_score:\n",
    "            best_score=score\n",
    "            best_parameters = {'C': C, 'gamma': gamma}\n",
    "            \n",
    "svm = SVC(**best_parameters)\n",
    "svm.fit(X_trainval, y_trainval)"
   ]
  },
  {
   "cell_type": "code",
   "execution_count": 111,
   "id": "ba17bc19",
   "metadata": {},
   "outputs": [
    {
     "data": {
      "text/html": [
       "<style>#sk-container-id-9 {color: black;}#sk-container-id-9 pre{padding: 0;}#sk-container-id-9 div.sk-toggleable {background-color: white;}#sk-container-id-9 label.sk-toggleable__label {cursor: pointer;display: block;width: 100%;margin-bottom: 0;padding: 0.3em;box-sizing: border-box;text-align: center;}#sk-container-id-9 label.sk-toggleable__label-arrow:before {content: \"▸\";float: left;margin-right: 0.25em;color: #696969;}#sk-container-id-9 label.sk-toggleable__label-arrow:hover:before {color: black;}#sk-container-id-9 div.sk-estimator:hover label.sk-toggleable__label-arrow:before {color: black;}#sk-container-id-9 div.sk-toggleable__content {max-height: 0;max-width: 0;overflow: hidden;text-align: left;background-color: #f0f8ff;}#sk-container-id-9 div.sk-toggleable__content pre {margin: 0.2em;color: black;border-radius: 0.25em;background-color: #f0f8ff;}#sk-container-id-9 input.sk-toggleable__control:checked~div.sk-toggleable__content {max-height: 200px;max-width: 100%;overflow: auto;}#sk-container-id-9 input.sk-toggleable__control:checked~label.sk-toggleable__label-arrow:before {content: \"▾\";}#sk-container-id-9 div.sk-estimator input.sk-toggleable__control:checked~label.sk-toggleable__label {background-color: #d4ebff;}#sk-container-id-9 div.sk-label input.sk-toggleable__control:checked~label.sk-toggleable__label {background-color: #d4ebff;}#sk-container-id-9 input.sk-hidden--visually {border: 0;clip: rect(1px 1px 1px 1px);clip: rect(1px, 1px, 1px, 1px);height: 1px;margin: -1px;overflow: hidden;padding: 0;position: absolute;width: 1px;}#sk-container-id-9 div.sk-estimator {font-family: monospace;background-color: #f0f8ff;border: 1px dotted black;border-radius: 0.25em;box-sizing: border-box;margin-bottom: 0.5em;}#sk-container-id-9 div.sk-estimator:hover {background-color: #d4ebff;}#sk-container-id-9 div.sk-parallel-item::after {content: \"\";width: 100%;border-bottom: 1px solid gray;flex-grow: 1;}#sk-container-id-9 div.sk-label:hover label.sk-toggleable__label {background-color: #d4ebff;}#sk-container-id-9 div.sk-serial::before {content: \"\";position: absolute;border-left: 1px solid gray;box-sizing: border-box;top: 0;bottom: 0;left: 50%;z-index: 0;}#sk-container-id-9 div.sk-serial {display: flex;flex-direction: column;align-items: center;background-color: white;padding-right: 0.2em;padding-left: 0.2em;position: relative;}#sk-container-id-9 div.sk-item {position: relative;z-index: 1;}#sk-container-id-9 div.sk-parallel {display: flex;align-items: stretch;justify-content: center;background-color: white;position: relative;}#sk-container-id-9 div.sk-item::before, #sk-container-id-9 div.sk-parallel-item::before {content: \"\";position: absolute;border-left: 1px solid gray;box-sizing: border-box;top: 0;bottom: 0;left: 50%;z-index: -1;}#sk-container-id-9 div.sk-parallel-item {display: flex;flex-direction: column;z-index: 1;position: relative;background-color: white;}#sk-container-id-9 div.sk-parallel-item:first-child::after {align-self: flex-end;width: 50%;}#sk-container-id-9 div.sk-parallel-item:last-child::after {align-self: flex-start;width: 50%;}#sk-container-id-9 div.sk-parallel-item:only-child::after {width: 0;}#sk-container-id-9 div.sk-dashed-wrapped {border: 1px dashed gray;margin: 0 0.4em 0.5em 0.4em;box-sizing: border-box;padding-bottom: 0.4em;background-color: white;}#sk-container-id-9 div.sk-label label {font-family: monospace;font-weight: bold;display: inline-block;line-height: 1.2em;}#sk-container-id-9 div.sk-label-container {text-align: center;}#sk-container-id-9 div.sk-container {/* jupyter's `normalize.less` sets `[hidden] { display: none; }` but bootstrap.min.css set `[hidden] { display: none !important; }` so we also need the `!important` here to be able to override the default hidden behavior on the sphinx rendered scikit-learn.org. See: https://github.com/scikit-learn/scikit-learn/issues/21755 */display: inline-block !important;position: relative;}#sk-container-id-9 div.sk-text-repr-fallback {display: none;}</style><div id=\"sk-container-id-9\" class=\"sk-top-container\"><div class=\"sk-text-repr-fallback\"><pre>GridSearchCV(cv=10, estimator=SVC(),\n",
       "             param_grid={&#x27;C&#x27;: [0.001, 0.01, 0.1, 1, 10, 100],\n",
       "                         &#x27;gamma&#x27;: [0.001, 0.01, 0.1, 1, 10, 100]})</pre><b>In a Jupyter environment, please rerun this cell to show the HTML representation or trust the notebook. <br />On GitHub, the HTML representation is unable to render, please try loading this page with nbviewer.org.</b></div><div class=\"sk-container\" hidden><div class=\"sk-item sk-dashed-wrapped\"><div class=\"sk-label-container\"><div class=\"sk-label sk-toggleable\"><input class=\"sk-toggleable__control sk-hidden--visually\" id=\"sk-estimator-id-15\" type=\"checkbox\" ><label for=\"sk-estimator-id-15\" class=\"sk-toggleable__label sk-toggleable__label-arrow\">GridSearchCV</label><div class=\"sk-toggleable__content\"><pre>GridSearchCV(cv=10, estimator=SVC(),\n",
       "             param_grid={&#x27;C&#x27;: [0.001, 0.01, 0.1, 1, 10, 100],\n",
       "                         &#x27;gamma&#x27;: [0.001, 0.01, 0.1, 1, 10, 100]})</pre></div></div></div><div class=\"sk-parallel\"><div class=\"sk-parallel-item\"><div class=\"sk-item\"><div class=\"sk-label-container\"><div class=\"sk-label sk-toggleable\"><input class=\"sk-toggleable__control sk-hidden--visually\" id=\"sk-estimator-id-16\" type=\"checkbox\" ><label for=\"sk-estimator-id-16\" class=\"sk-toggleable__label sk-toggleable__label-arrow\">estimator: SVC</label><div class=\"sk-toggleable__content\"><pre>SVC()</pre></div></div></div><div class=\"sk-serial\"><div class=\"sk-item\"><div class=\"sk-estimator sk-toggleable\"><input class=\"sk-toggleable__control sk-hidden--visually\" id=\"sk-estimator-id-17\" type=\"checkbox\" ><label for=\"sk-estimator-id-17\" class=\"sk-toggleable__label sk-toggleable__label-arrow\">SVC</label><div class=\"sk-toggleable__content\"><pre>SVC()</pre></div></div></div></div></div></div></div></div></div></div>"
      ],
      "text/plain": [
       "GridSearchCV(cv=10, estimator=SVC(),\n",
       "             param_grid={'C': [0.001, 0.01, 0.1, 1, 10, 100],\n",
       "                         'gamma': [0.001, 0.01, 0.1, 1, 10, 100]})"
      ]
     },
     "execution_count": 111,
     "metadata": {},
     "output_type": "execute_result"
    }
   ],
   "source": [
    "from sklearn.model_selection import GridSearchCV\n",
    "from sklearn.svm import SVC\n",
    "param_grid={'C':[0.001,0.01, 0.1, 1, 10,100],\n",
    "          'gamma': [0.001,0.01, 0.1, 1, 10,100]}\n",
    "grid_search = GridSearchCV(SVC(),param_grid,cv=10)\n",
    "X_train,X_test,y_train,y_test = train_test_split(X,y, random_state=0)\n",
    "grid_search.fit(X_train, y_train)"
   ]
  },
  {
   "cell_type": "code",
   "execution_count": 112,
   "id": "16d45e94",
   "metadata": {},
   "outputs": [
    {
     "name": "stdout",
     "output_type": "stream",
     "text": [
      "правильность на тестовом наборе: 0.49\n",
      "наилучшее значение параметров: {'C': 1, 'gamma': 0.1}\n",
      "наилучшее значение кросс-валидац. правильности: 0.51\n",
      "наилучшая модель:\n",
      "SVC(C=1, gamma=0.1)\n"
     ]
    }
   ],
   "source": [
    "print(\"правильность на тестовом наборе: {:.2f}\".format(grid_search.score(X_test, y_test)))\n",
    "print(\"наилучшее значение параметров: {}\".format(grid_search.best_params_))\n",
    "print(\"наилучшее значение кросс-валидац. правильности: {:.2f}\".format(grid_search.best_score_))\n",
    "print(\"наилучшая модель:\\n{}\".format(grid_search.best_estimator_))"
   ]
  },
  {
   "cell_type": "code",
   "execution_count": 113,
   "id": "f225597f",
   "metadata": {},
   "outputs": [
    {
     "data": {
      "text/html": [
       "<div>\n",
       "<style scoped>\n",
       "    .dataframe tbody tr th:only-of-type {\n",
       "        vertical-align: middle;\n",
       "    }\n",
       "\n",
       "    .dataframe tbody tr th {\n",
       "        vertical-align: top;\n",
       "    }\n",
       "\n",
       "    .dataframe thead th {\n",
       "        text-align: right;\n",
       "    }\n",
       "</style>\n",
       "<table border=\"1\" class=\"dataframe\">\n",
       "  <thead>\n",
       "    <tr style=\"text-align: right;\">\n",
       "      <th></th>\n",
       "      <th>mean_fit_time</th>\n",
       "      <th>std_fit_time</th>\n",
       "      <th>mean_score_time</th>\n",
       "      <th>std_score_time</th>\n",
       "      <th>param_C</th>\n",
       "      <th>param_gamma</th>\n",
       "      <th>params</th>\n",
       "      <th>split0_test_score</th>\n",
       "      <th>split1_test_score</th>\n",
       "      <th>split2_test_score</th>\n",
       "      <th>split3_test_score</th>\n",
       "      <th>split4_test_score</th>\n",
       "      <th>split5_test_score</th>\n",
       "      <th>split6_test_score</th>\n",
       "      <th>split7_test_score</th>\n",
       "      <th>split8_test_score</th>\n",
       "      <th>split9_test_score</th>\n",
       "      <th>mean_test_score</th>\n",
       "      <th>std_test_score</th>\n",
       "      <th>rank_test_score</th>\n",
       "    </tr>\n",
       "  </thead>\n",
       "  <tbody>\n",
       "    <tr>\n",
       "      <th>0</th>\n",
       "      <td>0.087760</td>\n",
       "      <td>0.006841</td>\n",
       "      <td>0.022612</td>\n",
       "      <td>0.003186</td>\n",
       "      <td>0.001</td>\n",
       "      <td>0.001</td>\n",
       "      <td>{'C': 0.001, 'gamma': 0.001}</td>\n",
       "      <td>0.506667</td>\n",
       "      <td>0.506667</td>\n",
       "      <td>0.506667</td>\n",
       "      <td>0.506667</td>\n",
       "      <td>0.506667</td>\n",
       "      <td>0.506667</td>\n",
       "      <td>0.506667</td>\n",
       "      <td>0.506667</td>\n",
       "      <td>0.506667</td>\n",
       "      <td>0.493333</td>\n",
       "      <td>0.505333</td>\n",
       "      <td>0.004</td>\n",
       "      <td>4</td>\n",
       "    </tr>\n",
       "    <tr>\n",
       "      <th>1</th>\n",
       "      <td>0.088338</td>\n",
       "      <td>0.006335</td>\n",
       "      <td>0.018864</td>\n",
       "      <td>0.003107</td>\n",
       "      <td>0.001</td>\n",
       "      <td>0.01</td>\n",
       "      <td>{'C': 0.001, 'gamma': 0.01}</td>\n",
       "      <td>0.506667</td>\n",
       "      <td>0.506667</td>\n",
       "      <td>0.506667</td>\n",
       "      <td>0.506667</td>\n",
       "      <td>0.506667</td>\n",
       "      <td>0.506667</td>\n",
       "      <td>0.506667</td>\n",
       "      <td>0.506667</td>\n",
       "      <td>0.506667</td>\n",
       "      <td>0.493333</td>\n",
       "      <td>0.505333</td>\n",
       "      <td>0.004</td>\n",
       "      <td>4</td>\n",
       "    </tr>\n",
       "    <tr>\n",
       "      <th>2</th>\n",
       "      <td>0.093602</td>\n",
       "      <td>0.010931</td>\n",
       "      <td>0.022563</td>\n",
       "      <td>0.006147</td>\n",
       "      <td>0.001</td>\n",
       "      <td>0.1</td>\n",
       "      <td>{'C': 0.001, 'gamma': 0.1}</td>\n",
       "      <td>0.506667</td>\n",
       "      <td>0.506667</td>\n",
       "      <td>0.506667</td>\n",
       "      <td>0.506667</td>\n",
       "      <td>0.506667</td>\n",
       "      <td>0.506667</td>\n",
       "      <td>0.506667</td>\n",
       "      <td>0.506667</td>\n",
       "      <td>0.506667</td>\n",
       "      <td>0.493333</td>\n",
       "      <td>0.505333</td>\n",
       "      <td>0.004</td>\n",
       "      <td>4</td>\n",
       "    </tr>\n",
       "    <tr>\n",
       "      <th>3</th>\n",
       "      <td>0.092059</td>\n",
       "      <td>0.008235</td>\n",
       "      <td>0.020342</td>\n",
       "      <td>0.002955</td>\n",
       "      <td>0.001</td>\n",
       "      <td>1</td>\n",
       "      <td>{'C': 0.001, 'gamma': 1}</td>\n",
       "      <td>0.506667</td>\n",
       "      <td>0.506667</td>\n",
       "      <td>0.506667</td>\n",
       "      <td>0.506667</td>\n",
       "      <td>0.506667</td>\n",
       "      <td>0.506667</td>\n",
       "      <td>0.506667</td>\n",
       "      <td>0.506667</td>\n",
       "      <td>0.506667</td>\n",
       "      <td>0.493333</td>\n",
       "      <td>0.505333</td>\n",
       "      <td>0.004</td>\n",
       "      <td>4</td>\n",
       "    </tr>\n",
       "    <tr>\n",
       "      <th>4</th>\n",
       "      <td>0.094288</td>\n",
       "      <td>0.007527</td>\n",
       "      <td>0.019461</td>\n",
       "      <td>0.002129</td>\n",
       "      <td>0.001</td>\n",
       "      <td>10</td>\n",
       "      <td>{'C': 0.001, 'gamma': 10}</td>\n",
       "      <td>0.506667</td>\n",
       "      <td>0.506667</td>\n",
       "      <td>0.506667</td>\n",
       "      <td>0.506667</td>\n",
       "      <td>0.506667</td>\n",
       "      <td>0.506667</td>\n",
       "      <td>0.506667</td>\n",
       "      <td>0.506667</td>\n",
       "      <td>0.506667</td>\n",
       "      <td>0.493333</td>\n",
       "      <td>0.505333</td>\n",
       "      <td>0.004</td>\n",
       "      <td>4</td>\n",
       "    </tr>\n",
       "  </tbody>\n",
       "</table>\n",
       "</div>"
      ],
      "text/plain": [
       "   mean_fit_time  std_fit_time  mean_score_time  std_score_time param_C  \\\n",
       "0       0.087760      0.006841         0.022612        0.003186   0.001   \n",
       "1       0.088338      0.006335         0.018864        0.003107   0.001   \n",
       "2       0.093602      0.010931         0.022563        0.006147   0.001   \n",
       "3       0.092059      0.008235         0.020342        0.002955   0.001   \n",
       "4       0.094288      0.007527         0.019461        0.002129   0.001   \n",
       "\n",
       "  param_gamma                        params  split0_test_score  \\\n",
       "0       0.001  {'C': 0.001, 'gamma': 0.001}           0.506667   \n",
       "1        0.01   {'C': 0.001, 'gamma': 0.01}           0.506667   \n",
       "2         0.1    {'C': 0.001, 'gamma': 0.1}           0.506667   \n",
       "3           1      {'C': 0.001, 'gamma': 1}           0.506667   \n",
       "4          10     {'C': 0.001, 'gamma': 10}           0.506667   \n",
       "\n",
       "   split1_test_score  split2_test_score  split3_test_score  split4_test_score  \\\n",
       "0           0.506667           0.506667           0.506667           0.506667   \n",
       "1           0.506667           0.506667           0.506667           0.506667   \n",
       "2           0.506667           0.506667           0.506667           0.506667   \n",
       "3           0.506667           0.506667           0.506667           0.506667   \n",
       "4           0.506667           0.506667           0.506667           0.506667   \n",
       "\n",
       "   split5_test_score  split6_test_score  split7_test_score  split8_test_score  \\\n",
       "0           0.506667           0.506667           0.506667           0.506667   \n",
       "1           0.506667           0.506667           0.506667           0.506667   \n",
       "2           0.506667           0.506667           0.506667           0.506667   \n",
       "3           0.506667           0.506667           0.506667           0.506667   \n",
       "4           0.506667           0.506667           0.506667           0.506667   \n",
       "\n",
       "   split9_test_score  mean_test_score  std_test_score  rank_test_score  \n",
       "0           0.493333         0.505333           0.004                4  \n",
       "1           0.493333         0.505333           0.004                4  \n",
       "2           0.493333         0.505333           0.004                4  \n",
       "3           0.493333         0.505333           0.004                4  \n",
       "4           0.493333         0.505333           0.004                4  "
      ]
     },
     "metadata": {},
     "output_type": "display_data"
    }
   ],
   "source": [
    "results = pd.DataFrame(grid_search.cv_results_)\n",
    "display(results.head())"
   ]
  },
  {
   "cell_type": "code",
   "execution_count": 114,
   "id": "0cef7bc2",
   "metadata": {},
   "outputs": [
    {
     "data": {
      "image/png": "[encoded data removed]",
      "text/plain": [
       "<Figure size 640x480 with 2 Axes>"
      ]
     },
     "metadata": {},
     "output_type": "display_data"
    }
   ],
   "source": [
    "import seaborn as sns\n",
    "import matplotlib.pyplot as plt\n",
    "scores = np.array(results.mean_test_score).reshape(6,6)\n",
    "\n",
    "ax = sns.heatmap(scores, annot=True, xticklabels=param_grid['gamma'], yticklabels=param_grid['C'], cmap='hsv')\n",
    "ax.set(xlabel=\"gamma\", ylabel=\"C\")\n",
    "ax.xaxis.tick_top()\n",
    "plt.show()"
   ]
  },
  {
   "cell_type": "markdown",
   "id": "90e3bec6",
   "metadata": {},
   "source": [
    "## Метрики модели"
   ]
  },
  {
   "cell_type": "code",
   "execution_count": 146,
   "id": "3ff8989b",
   "metadata": {},
   "outputs": [
    {
     "name": "stdout",
     "output_type": "stream",
     "text": [
      "Уникальные спрогнозированные метки: [0]\n",
      "Accuracy DummyClassifier: 0.48\n"
     ]
    }
   ],
   "source": [
    "import numpy as np\n",
    "from sklearn.model_selection import train_test_split\n",
    "from sklearn.dummy import DummyClassifier\n",
    "\n",
    "\n",
    "\n",
    "# Разделение на обучающую и тестовую выборки\n",
    "X_train, X_test, y_train, y_test = train_test_split(X, y, test_size=0.2, random_state=38)\n",
    "\n",
    "# Инициализация и обучение DummyClassifier\n",
    "dummy = DummyClassifier(strategy='most_frequent').fit(X_train, y_train)\n",
    "\n",
    "# Предсказания и оценка точности\n",
    "pred_most_frequent = dummy.predict(X_test)\n",
    "accuracy = dummy.score(X_test, y_test)\n",
    "\n",
    "# Вывод уникальных предсказанных меток\n",
    "print('Уникальные спрогнозированные метки: {}'.format(np.unique(pred_most_frequent)))\n",
    "print('Accuracy DummyClassifier: {:.2f}'.format(accuracy))\n"
   ]
  },
  {
   "cell_type": "code",
   "execution_count": 147,
   "id": "895b4edf",
   "metadata": {},
   "outputs": [
    {
     "name": "stdout",
     "output_type": "stream",
     "text": [
      "правильность на тестовом наборе: 0.83\n"
     ]
    }
   ],
   "source": [
    "from sklearn.tree import DecisionTreeClassifier\n",
    "X_train, X_test, y_train, y_test = train_test_split(X, y, test_size=0.2, random_state=38)\n",
    "\n",
    "tree = DecisionTreeClassifier(max_depth=2).fit(X_train, y_train)\n",
    "pred_tree = tree.predict(X_test)\n",
    "print('правильность на тестовом наборе: {:.2f}'.format(tree.score(X_test, y_test)))"
   ]
  },
  {
   "cell_type": "code",
   "execution_count": 148,
   "id": "f7779ec6",
   "metadata": {},
   "outputs": [
    {
     "name": "stdout",
     "output_type": "stream",
     "text": [
      "правильность dummy : 0.48\n",
      "правильность logreg : 0.85\n"
     ]
    }
   ],
   "source": [
    "from sklearn.dummy import DummyClassifier\n",
    "dummy = DummyClassifier().fit(X_train, y_train)\n",
    "pred_dummy = dummy.predict(X_test)\n",
    "print('правильность dummy : {:.2f}'.format(dummy.score(X_test, y_test)))\n",
    "logreg  = LogisticRegression(C=0.1, max_iter=10000).fit(X_train, y_train)\n",
    "pred_logreg = logreg.predict(X_test)\n",
    "print('правильность logreg : {:.2f}'.format(logreg.score(X_test, y_test)))"
   ]
  },
  {
   "cell_type": "code",
   "execution_count": 149,
   "id": "92d875ad",
   "metadata": {},
   "outputs": [
    {
     "name": "stdout",
     "output_type": "stream",
     "text": [
      "Confusion matrix:\n",
      "[[87  9]\n",
      " [21 83]]\n"
     ]
    }
   ],
   "source": [
    "from sklearn.metrics import confusion_matrix\n",
    "confusion= confusion_matrix(y_test,pred_logreg)\n",
    "print(\"Confusion matrix:\\n{}\".format(confusion))"
   ]
  },
  {
   "cell_type": "code",
   "execution_count": 150,
   "id": "aa6b5ca0",
   "metadata": {},
   "outputs": [
    {
     "name": "stdout",
     "output_type": "stream",
     "text": [
      " Наиболее часто встречающийся класс:\n",
      "[[ 96   0]\n",
      " [104   0]]\n",
      "\n",
      " Дамми-модель:\n",
      "[[ 96   0]\n",
      " [104   0]]\n",
      "\n",
      " Дерево решений:\n",
      "[[86 10]\n",
      " [23 81]]\n",
      "\n",
      " Логическая регрессия:\n",
      "[[87  9]\n",
      " [21 83]]\n"
     ]
    }
   ],
   "source": [
    "print(\" Наиболее часто встречающийся класс:\")\n",
    "print(confusion_matrix(y_test, pred_most_frequent))\n",
    "print(\"\\n Дамми-модель:\")\n",
    "print(confusion_matrix(y_test, pred_dummy))\n",
    "print(\"\\n Дерево решений:\")\n",
    "print(confusion_matrix(y_test, pred_tree))\n",
    "print(\"\\n Логическая регрессия:\")\n",
    "print(confusion_matrix(y_test, pred_logreg))"
   ]
  },
  {
   "cell_type": "code",
   "execution_count": 165,
   "id": "01e1a113",
   "metadata": {},
   "outputs": [
    {
     "name": "stdout",
     "output_type": "stream",
     "text": [
      "f1-мера наибольшая частота: 0.00\n",
      "f1-мера Дамми-модель: 0.00\n",
      "f1-мера Дерево решений: 0.45\n",
      "f1-мера Логическая регрессия: 0.42\n"
     ]
    }
   ],
   "source": [
    "from sklearn.metrics import f1_score\n",
    "print(\"f1-мера наибольшая частота: {:.2f}\".format(f1_score(y_test, pred_most_frequent)))\n",
    "print(\"f1-мера Дамми-модель: {:.2f}\".format(f1_score(y_test, pred_dummy)))\n",
    "print(\"f1-мера Дерево решений: {:.2f}\".format(f1_score(y_test, pred_tree)))\n",
    "print(\"f1-мера Логическая регрессия: {:.2f}\".format(f1_score(y_test, pred_logreg)))\n"
   ]
  },
  {
   "cell_type": "code",
   "execution_count": 166,
   "id": "95a60708",
   "metadata": {},
   "outputs": [
    {
     "name": "stdout",
     "output_type": "stream",
     "text": [
      "              precision    recall  f1-score   support\n",
      "\n",
      "    not nine       0.49      1.00      0.66        99\n",
      "        nine       0.00      0.00      0.00       101\n",
      "\n",
      "    accuracy                           0.49       200\n",
      "   macro avg       0.25      0.50      0.33       200\n",
      "weighted avg       0.25      0.49      0.33       200\n",
      "\n"
     ]
    },
    {
     "name": "stderr",
     "output_type": "stream",
     "text": [
      "C:\\Users\\User\\anaconda3\\Lib\\site-packages\\sklearn\\metrics\\_classification.py:1469: UndefinedMetricWarning: Precision and F-score are ill-defined and being set to 0.0 in labels with no predicted samples. Use `zero_division` parameter to control this behavior.\n",
      "  _warn_prf(average, modifier, msg_start, len(result))\n",
      "C:\\Users\\User\\anaconda3\\Lib\\site-packages\\sklearn\\metrics\\_classification.py:1469: UndefinedMetricWarning: Precision and F-score are ill-defined and being set to 0.0 in labels with no predicted samples. Use `zero_division` parameter to control this behavior.\n",
      "  _warn_prf(average, modifier, msg_start, len(result))\n",
      "C:\\Users\\User\\anaconda3\\Lib\\site-packages\\sklearn\\metrics\\_classification.py:1469: UndefinedMetricWarning: Precision and F-score are ill-defined and being set to 0.0 in labels with no predicted samples. Use `zero_division` parameter to control this behavior.\n",
      "  _warn_prf(average, modifier, msg_start, len(result))\n"
     ]
    }
   ],
   "source": [
    "from sklearn.metrics import classification_report\n",
    "print(classification_report(y_test, pred_most_frequent, target_names=['not nine', 'nine']))"
   ]
  },
  {
   "cell_type": "code",
   "execution_count": 167,
   "id": "20076d9e",
   "metadata": {},
   "outputs": [],
   "source": [
    "from mglearn.datasets import make_blobs\n",
    "X, y = make_blobs(n_samples=(400, 50), cluster_std=[7.0, 2], random_state=22)\n",
    "X_train, X_test, y_train, y_test = train_test_split(X, y, random_state=0)\n",
    "svc = SVC(gamma=.05).fit(X_train, y_train)\n",
    "from sklearn.metrics import precision_recall_curve\n",
    "precision, recall, thresholds = precision_recall_curve(y_test, svc.decision_function(X_test))"
   ]
  },
  {
   "cell_type": "code",
   "execution_count": 177,
   "id": "e5e3260a",
   "metadata": {},
   "outputs": [
    {
     "data": {
      "text/plain": [
       "<matplotlib.legend.Legend at 0x1322fde2050>"
      ]
     },
     "execution_count": 177,
     "metadata": {},
     "output_type": "execute_result"
    },
    {
     "data": {
      "image/png": "[encoded data removed]",
      "text/plain": [
       "<Figure size 640x480 with 1 Axes>"
      ]
     },
     "metadata": {},
     "output_type": "display_data"
    }
   ],
   "source": [
    "from sklearn.ensemble import RandomForestClassifier \n",
    " \n",
    "rf = RandomForestClassifier(n_estimators=100, random_state=38, max_features=2) \n",
    "rf.fit(X_train, y_train) \n",
    " \n",
    "# RandomForestClassifier has predict_proba, but not decision_function \n",
    "precision_rf, recall_rf, thresholds_rf = precision_recall_curve( \n",
    "    y_test, rf.predict_proba(X_test)[:, 1]) \n",
    " \n",
    "plt.plot(precision, recall, label=\"svc\") \n",
    "# Нахождение индексов точек, близких к нулевому порогу\n",
    "close_zero = np.argmin(np.abs(thresholds - 0.5))\n",
    "\n",
    "plt.plot(precision[close_zero], recall[close_zero], 'o', markersize=10, label=\"threshold zero svc\", fillstyle=\"none\", c='k', mew=2)\n",
    "plt.plot(precision_rf, recall_rf, label=\"rf\") \n",
    " \n",
    "close_default_rf = np.argmin(np.abs(thresholds_rf - 0.5)) \n",
    "plt.plot(precision_rf[close_default_rf], recall_rf[close_default_rf], '^', c='k', \n",
    "         markersize=10, label=\"threshold 0.5 rf\", fillstyle=\"none\", mew=2) \n",
    "plt.xlabel(\"Precision\") \n",
    "plt.ylabel(\"Recall\") \n",
    "plt.legend(loc=\"best\")"
   ]
  },
  {
   "cell_type": "code",
   "execution_count": 178,
   "id": "4134c718",
   "metadata": {},
   "outputs": [
    {
     "name": "stdout",
     "output_type": "stream",
     "text": [
      "средняя точность rrandom forest: 0.586\n",
      "средняя точность svc: 0.751\n"
     ]
    }
   ],
   "source": [
    "from sklearn.metrics import average_precision_score\n",
    "ap_rf = average_precision_score(y_test, rf.predict_proba(X_test)[:, 1])\n",
    "ap_svc = average_precision_score(y_test, svc.decision_function(X_test))\n",
    "print(\"средняя точность rrandom forest: {:.3f}\".format(ap_rf))\n",
    "print(\"средняя точность svc: {:.3f}\".format(ap_svc))"
   ]
  },
  {
   "cell_type": "code",
   "execution_count": 179,
   "id": "2e7a1cf2",
   "metadata": {},
   "outputs": [
    {
     "name": "stdout",
     "output_type": "stream",
     "text": [
      "Accuracy: 0.903\n",
      "confusion matrix:\n",
      "[[102   2]\n",
      " [  9   0]]\n"
     ]
    }
   ],
   "source": [
    "from sklearn.metrics import accuracy_score\n",
    "X_train, X_test, y_train, y_test = train_test_split(X,y, random_state=0)\n",
    "lr = LogisticRegression(max_iter=5000).fit(X_train, y_train)\n",
    "pred= lr.predict(X_test)\n",
    "print(\"Accuracy: {:.3f}\".format(accuracy_score(y_test, pred)))\n",
    "print(\"confusion matrix:\\n{}\".format(confusion_matrix(y_test, pred)))"
   ]
  },
  {
   "cell_type": "code",
   "execution_count": 180,
   "id": "ac093219",
   "metadata": {},
   "outputs": [
    {
     "data": {
      "image/png": "[encoded data removed]",
      "text/plain": [
       "<Figure size 640x480 with 2 Axes>"
      ]
     },
     "metadata": {},
     "output_type": "display_data"
    }
   ],
   "source": [
    "import seaborn as sns\n",
    "import matplotlib.pyplot as plt\n",
    "from sklearn.metrics import confusion_matrix\n",
    "ax = sns.heatmap(confusion_matrix(y_test, pred), annot=True, cmap='gray')\n",
    "plt.xticks(ticks=np.arange(len(df['target'].unique())), labels=df['target'].unique())\n",
    "plt.yticks(ticks=np.arange(len(df['target'].unique())), labels=df['target'].unique())\n",
    "plt.xlabel(\"Prediction label\")\n",
    "plt.ylabel(\"True label\")\n",
    "plt.title(\"Confusion Matrix\")\n",
    "plt.show()\n"
   ]
  },
  {
   "cell_type": "code",
   "execution_count": 181,
   "id": "3eab6427",
   "metadata": {},
   "outputs": [
    {
     "name": "stdout",
     "output_type": "stream",
     "text": [
      "              precision    recall  f1-score   support\n",
      "\n",
      "           0       0.92      0.98      0.95       104\n",
      "           1       0.00      0.00      0.00         9\n",
      "\n",
      "    accuracy                           0.90       113\n",
      "   macro avg       0.46      0.49      0.47       113\n",
      "weighted avg       0.85      0.90      0.87       113\n",
      "\n"
     ]
    }
   ],
   "source": [
    "print(classification_report(y_test, pred))"
   ]
  },
  {
   "cell_type": "code",
   "execution_count": 182,
   "id": "b91a2f95",
   "metadata": {},
   "outputs": [
    {
     "name": "stdout",
     "output_type": "stream",
     "text": [
      "Micro average f1 score: 0.903\n",
      "Macro average f1 score: 0.474\n"
     ]
    }
   ],
   "source": [
    "\n",
    "print(\"Micro average f1 score: {:.3f}\".format(f1_score(y_test,pred, average=\"micro\")))\n",
    "print(\"Macro average f1 score: {:.3f}\".format(f1_score(y_test,pred, average=\"macro\")))"
   ]
  },
  {
   "cell_type": "code",
   "execution_count": 183,
   "id": "c01d34f9",
   "metadata": {},
   "outputs": [
    {
     "name": "stdout",
     "output_type": "stream",
     "text": [
      "Метрика качества по умолчанию: [0.88888889 0.88888889 0.88888889 0.88888889 0.88888889]\n",
      "Метрика качества явно заданная правильность: [0.88888889 0.88888889 0.88888889 0.88888889 0.88888889]\n",
      "AUC: [0.9225  0.95375 0.9325  0.945   0.94625]\n"
     ]
    }
   ],
   "source": [
    "print(\"Метрика качества по умолчанию: {}\".format(cross_val_score(SVC(), X, y)))\n",
    "explicit_accuracy = cross_val_score(SVC(), X, y, scoring='accuracy')\n",
    "print(\"Метрика качества явно заданная правильность: {}\".format(explicit_accuracy))\n",
    "roc_auc = cross_val_score(SVC(), X, y, scoring='roc_auc')\n",
    "print(\"AUC: {}\".format(roc_auc))\n"
   ]
  },
  {
   "cell_type": "code",
   "execution_count": 175,
   "id": "9cf06634",
   "metadata": {},
   "outputs": [
    {
     "name": "stdout",
     "output_type": "stream",
     "text": [
      "решетчатый поиск с использованием правильности\n",
      "наилучшие параметры: {'gamma': 0.0001}\n",
      "наилучшее значение перекр проверки (правильность): 0.894\n",
      "AUC на тестовом наборе: 0.922\n",
      "правильность на  тестовом наборе: 0.867\n"
     ]
    }
   ],
   "source": [
    "from sklearn.metrics import roc_auc_score\n",
    "from sklearn.svm import SVC\n",
    "X_train, X_test, y_train, y_test = train_test_split(X, y, test_size=0.2, random_state=42)\n",
    "param_grid= {'gamma': [0.0001,0.001, 0.01, 0.1, 1,10]}\n",
    "grid = GridSearchCV(SVC(), param_grid= param_grid)\n",
    "grid.fit(X_train, y_train)\n",
    "print(\"решетчатый поиск с использованием правильности\")\n",
    "print(\"наилучшие параметры:\", grid.best_params_)\n",
    "print(\"наилучшее значение перекр проверки (правильность): {:.3f}\".format(grid.best_score_))\n",
    "print(\"AUC на тестовом наборе: {:.3f}\".format(roc_auc_score(y_test, grid.decision_function(X_test))))\n",
    "print(\"правильность на  тестовом наборе: {:.3f}\".format(grid.score(X_test, y_test)))"
   ]
  },
  {
   "cell_type": "code",
   "execution_count": 176,
   "id": "0894a493",
   "metadata": {},
   "outputs": [
    {
     "name": "stdout",
     "output_type": "stream",
     "text": [
      "решетчатый поиск AUC\n",
      "наилучшие параметры: {'gamma': 0.001}\n",
      "наилучшее значение перекр проверки (правильность): 0.936\n",
      "AUC на тестовом наборе: 0.954\n",
      "правильность на  тестовом наборе: 0.954\n"
     ]
    }
   ],
   "source": [
    "grid = GridSearchCV(SVC(), param_grid= param_grid, scoring=\"roc_auc\")\n",
    "grid.fit(X_train, y_train)\n",
    "print(\"решетчатый поиск AUC\")\n",
    "print(\"наилучшие параметры:\", grid.best_params_)\n",
    "print(\"наилучшее значение перекр проверки (правильность): {:.3f}\".format(grid.best_score_))\n",
    "print(\"AUC на тестовом наборе: {:.3f}\".format(roc_auc_score(y_test, grid.decision_function(X_test))))\n",
    "print(\"правильность на  тестовом наборе: {:.3f}\".format(grid.score(X_test, y_test)))"
   ]
  },
  {
   "cell_type": "code",
   "execution_count": 163,
   "id": "de79421a",
   "metadata": {},
   "outputs": [
    {
     "name": "stdout",
     "output_type": "stream",
     "text": [
      "ROC AUC до применения решетчатого поиска: 0.98999899989999\n",
      "ROC AUC после применения решетчатого поиска: 0.98999899989999\n"
     ]
    }
   ],
   "source": [
    "from sklearn.model_selection import cross_val_score, train_test_split\n",
    "from sklearn.svm import SVC\n",
    "from sklearn.datasets import make_classification\n",
    "from sklearn.metrics import roc_auc_score\n",
    "\n",
    "# Загрузка данных (в данном случае генерация синтетических данных)\n",
    "X, y = make_classification(n_samples=1000, n_features=20, n_classes=2, random_state=37)\n",
    "\n",
    "# Разделение данных на обучающий и тестовый наборы\n",
    "X_train, X_test, y_train, y_test = train_test_split(X, y, test_size=0.2, random_state=37)\n",
    "\n",
    "# Создание и обучение модели без использования решетчатого поиска\n",
    "model_before = SVC(gamma='auto')\n",
    "model_before.fit(X_train, y_train)\n",
    "\n",
    "# Предсказание на тестовом наборе данных перед использованием решетчатого поиска\n",
    "predictions_before = model_before.predict(X_test)\n",
    "roc_auc_before = roc_auc_score(y_test, predictions_before)\n",
    "print(f\"ROC AUC до применения решетчатого поиска: {roc_auc_before}\")\n",
    "\n",
    "# Создание решетчатого поиска для SVC\n",
    "param_grid = {'gamma': [0.0001, 0.001, 0.01, 0.1, 1, 10]}\n",
    "grid = GridSearchCV(SVC(), param_grid=param_grid)\n",
    "grid.fit(X_train, y_train)\n",
    "\n",
    "# Получение наилучшей модели после решетчатого поиска\n",
    "best_model = grid.best_estimator_\n",
    "\n",
    "# Предсказание на тестовом наборе данных после применения решетчатого поиска\n",
    "predictions_after = best_model.predict(X_test)\n",
    "roc_auc_after = roc_auc_score(y_test, predictions_after)\n",
    "print(f\"ROC AUC после применения решетчатого поиска: {roc_auc_after}\")\n"
   ]
  },
  {
   "cell_type": "code",
   "execution_count": 138,
   "id": "499d6e44",
   "metadata": {},
   "outputs": [
    {
     "name": "stdout",
     "output_type": "stream",
     "text": [
      "ROC AUC до перекрестной проверки: 0.8481057180182895\n",
      "ROC AUC после перекрестной проверки: <built-in method mean of numpy.ndarray object at 0x000001322F5B7BD0>\n"
     ]
    }
   ],
   "source": [
    "from sklearn.model_selection import cross_val_score, train_test_split\n",
    "from sklearn.svm import SVC\n",
    "from sklearn.datasets import make_classification\n",
    "from sklearn.metrics import roc_auc_score\n",
    "\n",
    "\n",
    "# Создание модели (до применения перекрестной проверки)\n",
    "model_before = SVC(gamma='auto')\n",
    "model_before.fit(X_train, y_train)\n",
    "\n",
    "# Оценка метрики до применения перекрестной проверки\n",
    "predictions_before = model_before.predict(X_test)\n",
    "roc_auc_before = roc_auc_score(y_test, predictions_before)\n",
    "print(f\"ROC AUC до перекрестной проверки: {roc_auc_before}\")\n",
    "\n",
    "# Применение перекрестной проверки\n",
    "scores = cross_val_score(model_before, X_train, y_train, cv=5, scoring='roc_auc')\n",
    "\n",
    "# Оценка метрики после применения перекрестной проверки\n",
    "print(f\"ROC AUC после перекрестной проверки: {scores.mean}\")"
   ]
  },
  {
   "cell_type": "code",
   "execution_count": 139,
   "id": "183e71e2",
   "metadata": {},
   "outputs": [
    {
     "name": "stdout",
     "output_type": "stream",
     "text": [
      "ROC AUC до перекрестной проверки: 0.8481057180182895\n",
      "ROC AUC после перекрестной проверки: 0.8588584061903326\n"
     ]
    }
   ],
   "source": [
    "from sklearn.model_selection import cross_val_score, train_test_split, GridSearchCV\n",
    "from sklearn.svm import SVC\n",
    "from sklearn.datasets import make_classification\n",
    "from sklearn.metrics import roc_auc_score\n",
    "\n",
    "# Генерация синтетических данных для примера\n",
    "X, y = make_classification(n_samples=1000, n_features=20, n_classes=2, random_state=42)\n",
    "\n",
    "# Разделение данных на обучающий и тестовый наборы\n",
    "X_train, X_test, y_train, y_test = train_test_split(X, y, test_size=0.2, random_state=42)\n",
    "\n",
    "# Создание модели до применения перекрестной проверки\n",
    "model = SVC(gamma='auto')\n",
    "\n",
    "# Оценка метрики до применения перекрестной проверки\n",
    "model.fit(X_train, y_train)\n",
    "predictions_before = model.predict(X_test)\n",
    "roc_auc_before = roc_auc_score(y_test, predictions_before)\n",
    "print(f\"ROC AUC до перекрестной проверки: {roc_auc_before}\")\n",
    "\n",
    "# Определение сетки параметров для перекрестной проверки\n",
    "param_grid = {'gamma': [0.0001, 0.001, 0.01, 0.1, 1, 10]}\n",
    "\n",
    "# Создание объекта GridSearchCV\n",
    "grid = GridSearchCV(SVC(), param_grid=param_grid, cv=5, scoring='roc_auc')\n",
    "\n",
    "# Подгонка модели и оценка метрики после применения перекрестной проверки\n",
    "grid.fit(X_train, y_train)\n",
    "best_model = grid.best_estimator_\n",
    "predictions_after = best_model.predict(X_test)\n",
    "roc_auc_after = roc_auc_score(y_test, predictions_after)\n",
    "print(f\"ROC AUC после перекрестной проверки: {roc_auc_after}\")\n"
   ]
  },
  {
   "cell_type": "markdown",
   "id": "fcc08c2b",
   "metadata": {},
   "source": [
    "Значения средней правильности перекрестной проверки и оценок кросс-валидации на тестовых данных указывают на то, что модель в настоящий момент демонстрирует относительно низкую производительность, так как значение правильности около 0.5.\n",
    "\n",
    "Средняя правильность перекрестной проверки составляет 0.50, что говорит о том, что модель в среднем правильно классифицирует только половину данных в каждом из фолдов в процессе кросс-валидации.\n",
    "\n",
    "Результаты оценки на тестовых данных также показывают значения около 0.5, что означает, что модель не обучается особенно хорошо на имеющихся данных."
   ]
  },
  {
   "cell_type": "markdown",
   "id": "7b78606f",
   "metadata": {},
   "source": [
    "Решетчатый поиск\n",
    "\n",
    "Правильность (accuracy) на тестовом наборе данных составляет 0.49. Это означает, что модель SVC с выбранными параметрами правильно классифицировала около 49% тестовых данных.\n",
    "\n",
    "Наилучшие параметры модели, которые были подобраны в результате решетчатого поиска, это {'C': 1, 'gamma': 0.1}.\n",
    "\n",
    "Наилучшее значение кросс-валидационной правильности составило 0.51. Это означает, что после подбора параметров с помощью кросс-валидации средняя точность на валидационных данных улучшилась до 51%."
   ]
  },
  {
   "cell_type": "markdown",
   "id": "b7c9b3bc",
   "metadata": {},
   "source": [
    "Dummy модель показывает точность 0.48. Это простейшая модель, которая может предсказывать случайные результаты. Точность 0.48 означает, что другие модели должны превзойти это значение, чтобы считаться эффективными.\n",
    "\n",
    "Модель логистической регрессии (logreg) имеет точность 0.85. Это означает, что данная модель хорошо подходит для решения задачи классификации данных.\n",
    "\n",
    "Random Forest демонстрирует среднюю точность 0.586, а модель SVC (Support Vector Classifier) - среднюю точность 0.751. Обе эти модели показывают себя лучше, чем Dummy модель, но можно провести дополнительный анализ для определения, какая из них лучше подходит для конкретной задачи."
   ]
  },
  {
   "cell_type": "markdown",
   "id": "4f838869",
   "metadata": {},
   "source": [
    "лучшие результаты показывают модели logreg, SVC и Random Forest. Логистическая регрессия и SVC демонстрируют более высокую точность по сравнению с Dummy и Random Forest."
   ]
  },
  {
   "cell_type": "code",
   "execution_count": null,
   "id": "47fbb8b9",
   "metadata": {},
   "outputs": [],
   "source": []
  }
 ],
 "metadata": {
  "kernelspec": {
   "display_name": "Python 3 (ipykernel)",
   "language": "python",
   "name": "python3"
  },
  "language_info": {
   "codemirror_mode": {
    "name": "ipython",
    "version": 3
   },
   "file_extension": ".py",
   "mimetype": "text/x-python",
   "name": "python",
   "nbconvert_exporter": "python",
   "pygments_lexer": "ipython3",
   "version": "3.11.4"
  }
 },
 "nbformat": 4,
 "nbformat_minor": 5
}
