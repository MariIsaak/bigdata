{
 "cells": [
  {
   "cell_type": "markdown",
   "id": "8ac5ae82",
   "metadata": {},
   "source": [
    "# Лабораторная работа №6\n",
    "## Задание 2"
   ]
  },
  {
   "cell_type": "markdown",
   "id": "6ce41152",
   "metadata": {},
   "source": [
    "Используя один из игрушечных датасетов, применить алгоритмы улучшения качества и оценки моделей.\n",
    "Я использую load_wine."
   ]
  },
  {
   "cell_type": "markdown",
   "id": "568e740d",
   "metadata": {},
   "source": [
    "## Перекрестная проверка"
   ]
  },
  {
   "cell_type": "code",
   "execution_count": 3,
   "id": "bd3ffc0a",
   "metadata": {},
   "outputs": [
    {
     "name": "stdout",
     "output_type": "stream",
     "text": [
      "Cross-validation scores: [0.97222222 0.91666667 0.91666667 1.         1.        ]\n"
     ]
    }
   ],
   "source": [
    "import mglearn \n",
    "from sklearn.model_selection import cross_val_score\n",
    "from sklearn.datasets import load_wine\n",
    "from sklearn.linear_model import LogisticRegression\n",
    "\n",
    "wine = load_wine()\n",
    "logreg = LogisticRegression(max_iter=10000)# процесс оптимизации алгоритма не сходится в течение 1000 итераций, поэтому мы используем 10000\n",
    "\n",
    "scores = cross_val_score(logreg, wine.data, wine.target)\n",
    "print(\"Cross-validation scores: {}\".format(scores))"
   ]
  },
  {
   "cell_type": "code",
   "execution_count": 4,
   "id": "d243d9cf",
   "metadata": {},
   "outputs": [
    {
     "name": "stdout",
     "output_type": "stream",
     "text": [
      "Cross-validation scores: [0.97222222 0.91666667 0.91666667 1.         1.        ]\n",
      "Средняя правильность перекрестной проверки: 0.96\n"
     ]
    },
    {
     "data": {
      "text/plain": [
       "{'fit_time': array([0.39216733, 0.51402736, 0.49894977, 0.53836131, 0.47307062]),\n",
       " 'score_time': array([0.        , 0.        , 0.00753069, 0.        , 0.        ]),\n",
       " 'test_score': array([0.97222222, 0.91666667, 0.91666667, 1.        , 1.        ]),\n",
       " 'train_score': array([0.99295775, 0.99295775, 1.        , 0.99300699, 0.99300699])}"
      ]
     },
     "metadata": {},
     "output_type": "display_data"
    }
   ],
   "source": [
    "scores = cross_val_score(logreg, wine.data, wine.target, cv=5)\n",
    "print(\"Cross-validation scores: {}\".format(scores))\n",
    "print(\"Средняя правильность перекрестной проверки: {:.2f}\".format(scores.mean()))\n",
    "from sklearn.model_selection import cross_validate\n",
    "res = cross_validate(logreg, wine.data, wine.target, cv=5, return_train_score=True)\n",
    "display(res)"
   ]
  },
  {
   "cell_type": "code",
   "execution_count": 5,
   "id": "3150dfd5",
   "metadata": {},
   "outputs": [
    {
     "data": {
      "text/html": [
       "<div>\n",
       "<style scoped>\n",
       "    .dataframe tbody tr th:only-of-type {\n",
       "        vertical-align: middle;\n",
       "    }\n",
       "\n",
       "    .dataframe tbody tr th {\n",
       "        vertical-align: top;\n",
       "    }\n",
       "\n",
       "    .dataframe thead th {\n",
       "        text-align: right;\n",
       "    }\n",
       "</style>\n",
       "<table border=\"1\" class=\"dataframe\">\n",
       "  <thead>\n",
       "    <tr style=\"text-align: right;\">\n",
       "      <th></th>\n",
       "      <th>fit_time</th>\n",
       "      <th>score_time</th>\n",
       "      <th>test_score</th>\n",
       "      <th>train_score</th>\n",
       "    </tr>\n",
       "  </thead>\n",
       "  <tbody>\n",
       "    <tr>\n",
       "      <th>0</th>\n",
       "      <td>0.392167</td>\n",
       "      <td>0.000000</td>\n",
       "      <td>0.972222</td>\n",
       "      <td>0.992958</td>\n",
       "    </tr>\n",
       "    <tr>\n",
       "      <th>1</th>\n",
       "      <td>0.514027</td>\n",
       "      <td>0.000000</td>\n",
       "      <td>0.916667</td>\n",
       "      <td>0.992958</td>\n",
       "    </tr>\n",
       "    <tr>\n",
       "      <th>2</th>\n",
       "      <td>0.498950</td>\n",
       "      <td>0.007531</td>\n",
       "      <td>0.916667</td>\n",
       "      <td>1.000000</td>\n",
       "    </tr>\n",
       "    <tr>\n",
       "      <th>3</th>\n",
       "      <td>0.538361</td>\n",
       "      <td>0.000000</td>\n",
       "      <td>1.000000</td>\n",
       "      <td>0.993007</td>\n",
       "    </tr>\n",
       "    <tr>\n",
       "      <th>4</th>\n",
       "      <td>0.473071</td>\n",
       "      <td>0.000000</td>\n",
       "      <td>1.000000</td>\n",
       "      <td>0.993007</td>\n",
       "    </tr>\n",
       "  </tbody>\n",
       "</table>\n",
       "</div>"
      ],
      "text/plain": [
       "   fit_time  score_time  test_score  train_score\n",
       "0  0.392167    0.000000    0.972222     0.992958\n",
       "1  0.514027    0.000000    0.916667     0.992958\n",
       "2  0.498950    0.007531    0.916667     1.000000\n",
       "3  0.538361    0.000000    1.000000     0.993007\n",
       "4  0.473071    0.000000    1.000000     0.993007"
      ]
     },
     "metadata": {},
     "output_type": "display_data"
    },
    {
     "name": "stdout",
     "output_type": "stream",
     "text": [
      "Mean times and scores:\n",
      " fit_time       0.483315\n",
      "score_time     0.001506\n",
      "test_score     0.961111\n",
      "train_score    0.994386\n",
      "dtype: float64\n",
      "метки wine:\n",
      "[0 0 0 0 0 0 0 0 0 0 0 0 0 0 0 0 0 0 0 0 0 0 0 0 0 0 0 0 0 0 0 0 0 0 0 0 0\n",
      " 0 0 0 0 0 0 0 0 0 0 0 0 0 0 0 0 0 0 0 0 0 0 1 1 1 1 1 1 1 1 1 1 1 1 1 1 1\n",
      " 1 1 1 1 1 1 1 1 1 1 1 1 1 1 1 1 1 1 1 1 1 1 1 1 1 1 1 1 1 1 1 1 1 1 1 1 1\n",
      " 1 1 1 1 1 1 1 1 1 1 1 1 1 1 1 1 1 1 1 2 2 2 2 2 2 2 2 2 2 2 2 2 2 2 2 2 2\n",
      " 2 2 2 2 2 2 2 2 2 2 2 2 2 2 2 2 2 2 2 2 2 2 2 2 2 2 2 2 2 2]\n"
     ]
    }
   ],
   "source": [
    "import pandas as pd\n",
    "res_df = pd.DataFrame(res)\n",
    "display(res_df)\n",
    "print(\"Mean times and scores:\\n\", res_df.mean())\n",
    "from sklearn.datasets import load_wine\n",
    "wine=load_wine()\n",
    "print(\"метки wine:\\n{}\".format(wine.target))"
   ]
  },
  {
   "cell_type": "code",
   "execution_count": 6,
   "id": "74f7dda0",
   "metadata": {},
   "outputs": [
    {
     "name": "stdout",
     "output_type": "stream",
     "text": [
      "значения правильности перекрестной проверки:\n",
      "[0.91666667 0.94444444 0.88888889 0.94285714 1.        ]\n",
      "значения правильности перекрестной проверки :\n",
      "[0.01666667 0.74576271 0.18644068]\n",
      "значения правильности перекрестной проверки:\n",
      "[0.98333333 0.88135593 0.96610169]\n"
     ]
    }
   ],
   "source": [
    "from sklearn.model_selection import KFold\n",
    "kfold = KFold(n_splits=5)\n",
    "print(\"значения правильности перекрестной проверки:\\n{}\".format(cross_val_score(logreg, wine.data, wine.target, cv=kfold)))\n",
    "kfold = KFold(n_splits=3)\n",
    "print(\"значения правильности перекрестной проверки :\\n{}\".format(cross_val_score(logreg, wine.data, wine.target, cv=kfold)))\n",
    "kfold = KFold(n_splits=3, shuffle=True, random_state=0)\n",
    "print(\"значения правильности перекрестной проверки:\\n{}\".format(cross_val_score(logreg, wine.data, wine.target, cv=kfold)))"
   ]
  },
  {
   "cell_type": "code",
   "execution_count": 7,
   "id": "3359440b",
   "metadata": {},
   "outputs": [
    {
     "name": "stdout",
     "output_type": "stream",
     "text": [
      "значения правильности перекрестной проверки: \n",
      "[0.94382022 0.93258427 0.98876404 0.94382022 0.95505618 0.94382022\n",
      " 0.97752809 0.97752809 0.8988764  0.94382022]\n"
     ]
    }
   ],
   "source": [
    "from sklearn.model_selection import ShuffleSplit\n",
    "shuffle_split = ShuffleSplit(test_size=.5, train_size=.5, n_splits=10)\n",
    "scores = cross_val_score(logreg, wine.data, wine.target, cv=shuffle_split)\n",
    "print(\"значения правильности перекрестной проверки: \\n{}\".format(scores))"
   ]
  },
  {
   "cell_type": "code",
   "execution_count": 8,
   "id": "3993da26",
   "metadata": {},
   "outputs": [
    {
     "name": "stdout",
     "output_type": "stream",
     "text": [
      "Количество итераций:  178\n",
      "Средняя правильность: 0.96\n"
     ]
    }
   ],
   "source": [
    "from sklearn.model_selection import LeaveOneOut\n",
    "loo= LeaveOneOut()\n",
    "scores = cross_val_score(logreg, wine.data, wine.target, cv=loo)\n",
    "print(\"Количество итераций: \", len(scores))\n",
    "print(\"Средняя правильность: {:.2f}\".format(scores.mean()))"
   ]
  },
  {
   "cell_type": "markdown",
   "id": "eb4cd4ff",
   "metadata": {},
   "source": [
    "# Решетчатый поиск"
   ]
  },
  {
   "cell_type": "code",
   "execution_count": 9,
   "id": "32d94df4",
   "metadata": {},
   "outputs": [
    {
     "name": "stdout",
     "output_type": "stream",
     "text": [
      "размер обучающего набора:133 размер тестового набора :45\n",
      "наилучшее значение правильности: 0.84\n",
      "наилучшее значение параметров: {'C': 10, 'gamma': 0.001}\n"
     ]
    }
   ],
   "source": [
    "from sklearn.svm import SVC\n",
    "from sklearn.model_selection import train_test_split\n",
    "X_train,X_test,y_train,y_test = train_test_split(wine.data,wine.target, random_state=0)\n",
    "print(\"размер обучающего набора:{} размер тестового набора :{}\".format(X_train.shape[0], X_test.shape[0]))\n",
    "best_score =0\n",
    "for gamma in [0.001, 0.01, 0.1, 1, 10,100]:\n",
    "    for C in [0.001, 0.01, 0.1, 1, 10,100]:\n",
    "        \n",
    "        svm=SVC(gamma=gamma, C=C)\n",
    "        svm.fit(X_train, y_train)\n",
    "        \n",
    "        score = svm.score(X_test, y_test)\n",
    "        \n",
    "        if score> best_score:\n",
    "            best_score=score\n",
    "            best_parameters = {'C': C, 'gamma': gamma}\n",
    "            \n",
    "print(\"наилучшее значение правильности: {:.2f}\".format(best_score))\n",
    "print(\"наилучшее значение параметров: {}\".format(best_parameters))"
   ]
  },
  {
   "cell_type": "code",
   "execution_count": 10,
   "id": "d0464451",
   "metadata": {},
   "outputs": [
    {
     "name": "stdout",
     "output_type": "stream",
     "text": [
      "Размер обучающего набора: 99 размер проверочного набора: 34 размер тестового набора:45\n",
      "\n",
      "лучшее значение правильности на проверочном наборе: 0.79\n",
      "наилучшее значение параметров: {'C': 10, 'gamma': 0.001}\n",
      "правильность на тестовом наборе с наилучшими параметрами: 0.84\n"
     ]
    }
   ],
   "source": [
    "from sklearn.svm import SVC\n",
    "X_trainval, X_test, y_trainval, y_test= train_test_split(wine.data,wine.target, random_state=0)\n",
    "\n",
    "X_train, X_valid, y_train, y_valid= train_test_split(X_trainval, y_trainval,random_state=1)\n",
    "print(\"Размер обучающего набора: {} размер проверочного набора: {} размер тестового набора:\" \"{}\\n\".format(X_train.shape[0], X_valid.shape[0], X_test.shape[0]))\n",
    "best_score = 0\n",
    "for gamma in [0.001, 0.01, 0.1, 1, 10,100]:\n",
    "    for C in [0.001, 0.01, 0.1, 1, 10,100]:\n",
    "        \n",
    "        svm=SVC(gamma=gamma, C=C)\n",
    "        svm.fit(X_train, y_train)\n",
    "        \n",
    "        score = svm.score(X_valid, y_valid)\n",
    "        \n",
    "        if score> best_score:\n",
    "            best_score=score\n",
    "            best_parameters = {'C': C, 'gamma': gamma}\n",
    "            \n",
    "svm = SVC(**best_parameters)\n",
    "svm.fit(X_trainval, y_trainval)\n",
    "test_score=svm.score(X_test, y_test)\n",
    "\n",
    "            \n",
    "print(\"лучшее значение правильности на проверочном наборе: {:.2f}\".format(best_score))\n",
    "print(\"наилучшее значение параметров: {}\".format(best_parameters))\n",
    "print(\"правильность на тестовом наборе с наилучшими параметрами: {:.2f}\".format(test_score))"
   ]
  },
  {
   "cell_type": "code",
   "execution_count": 11,
   "id": "72cf507b",
   "metadata": {},
   "outputs": [
    {
     "data": {
      "text/html": [
       "<style>#sk-container-id-1 {color: black;}#sk-container-id-1 pre{padding: 0;}#sk-container-id-1 div.sk-toggleable {background-color: white;}#sk-container-id-1 label.sk-toggleable__label {cursor: pointer;display: block;width: 100%;margin-bottom: 0;padding: 0.3em;box-sizing: border-box;text-align: center;}#sk-container-id-1 label.sk-toggleable__label-arrow:before {content: \"▸\";float: left;margin-right: 0.25em;color: #696969;}#sk-container-id-1 label.sk-toggleable__label-arrow:hover:before {color: black;}#sk-container-id-1 div.sk-estimator:hover label.sk-toggleable__label-arrow:before {color: black;}#sk-container-id-1 div.sk-toggleable__content {max-height: 0;max-width: 0;overflow: hidden;text-align: left;background-color: #f0f8ff;}#sk-container-id-1 div.sk-toggleable__content pre {margin: 0.2em;color: black;border-radius: 0.25em;background-color: #f0f8ff;}#sk-container-id-1 input.sk-toggleable__control:checked~div.sk-toggleable__content {max-height: 200px;max-width: 100%;overflow: auto;}#sk-container-id-1 input.sk-toggleable__control:checked~label.sk-toggleable__label-arrow:before {content: \"▾\";}#sk-container-id-1 div.sk-estimator input.sk-toggleable__control:checked~label.sk-toggleable__label {background-color: #d4ebff;}#sk-container-id-1 div.sk-label input.sk-toggleable__control:checked~label.sk-toggleable__label {background-color: #d4ebff;}#sk-container-id-1 input.sk-hidden--visually {border: 0;clip: rect(1px 1px 1px 1px);clip: rect(1px, 1px, 1px, 1px);height: 1px;margin: -1px;overflow: hidden;padding: 0;position: absolute;width: 1px;}#sk-container-id-1 div.sk-estimator {font-family: monospace;background-color: #f0f8ff;border: 1px dotted black;border-radius: 0.25em;box-sizing: border-box;margin-bottom: 0.5em;}#sk-container-id-1 div.sk-estimator:hover {background-color: #d4ebff;}#sk-container-id-1 div.sk-parallel-item::after {content: \"\";width: 100%;border-bottom: 1px solid gray;flex-grow: 1;}#sk-container-id-1 div.sk-label:hover label.sk-toggleable__label {background-color: #d4ebff;}#sk-container-id-1 div.sk-serial::before {content: \"\";position: absolute;border-left: 1px solid gray;box-sizing: border-box;top: 0;bottom: 0;left: 50%;z-index: 0;}#sk-container-id-1 div.sk-serial {display: flex;flex-direction: column;align-items: center;background-color: white;padding-right: 0.2em;padding-left: 0.2em;position: relative;}#sk-container-id-1 div.sk-item {position: relative;z-index: 1;}#sk-container-id-1 div.sk-parallel {display: flex;align-items: stretch;justify-content: center;background-color: white;position: relative;}#sk-container-id-1 div.sk-item::before, #sk-container-id-1 div.sk-parallel-item::before {content: \"\";position: absolute;border-left: 1px solid gray;box-sizing: border-box;top: 0;bottom: 0;left: 50%;z-index: -1;}#sk-container-id-1 div.sk-parallel-item {display: flex;flex-direction: column;z-index: 1;position: relative;background-color: white;}#sk-container-id-1 div.sk-parallel-item:first-child::after {align-self: flex-end;width: 50%;}#sk-container-id-1 div.sk-parallel-item:last-child::after {align-self: flex-start;width: 50%;}#sk-container-id-1 div.sk-parallel-item:only-child::after {width: 0;}#sk-container-id-1 div.sk-dashed-wrapped {border: 1px dashed gray;margin: 0 0.4em 0.5em 0.4em;box-sizing: border-box;padding-bottom: 0.4em;background-color: white;}#sk-container-id-1 div.sk-label label {font-family: monospace;font-weight: bold;display: inline-block;line-height: 1.2em;}#sk-container-id-1 div.sk-label-container {text-align: center;}#sk-container-id-1 div.sk-container {/* jupyter's `normalize.less` sets `[hidden] { display: none; }` but bootstrap.min.css set `[hidden] { display: none !important; }` so we also need the `!important` here to be able to override the default hidden behavior on the sphinx rendered scikit-learn.org. See: https://github.com/scikit-learn/scikit-learn/issues/21755 */display: inline-block !important;position: relative;}#sk-container-id-1 div.sk-text-repr-fallback {display: none;}</style><div id=\"sk-container-id-1\" class=\"sk-top-container\"><div class=\"sk-text-repr-fallback\"><pre>SVC(C=10, gamma=0.001)</pre><b>In a Jupyter environment, please rerun this cell to show the HTML representation or trust the notebook. <br />On GitHub, the HTML representation is unable to render, please try loading this page with nbviewer.org.</b></div><div class=\"sk-container\" hidden><div class=\"sk-item\"><div class=\"sk-estimator sk-toggleable\"><input class=\"sk-toggleable__control sk-hidden--visually\" id=\"sk-estimator-id-1\" type=\"checkbox\" checked><label for=\"sk-estimator-id-1\" class=\"sk-toggleable__label sk-toggleable__label-arrow\">SVC</label><div class=\"sk-toggleable__content\"><pre>SVC(C=10, gamma=0.001)</pre></div></div></div></div></div>"
      ],
      "text/plain": [
       "SVC(C=10, gamma=0.001)"
      ]
     },
     "execution_count": 11,
     "metadata": {},
     "output_type": "execute_result"
    }
   ],
   "source": [
    "from sklearn.model_selection import cross_val_score\n",
    "from sklearn.svm import SVC\n",
    "import numpy as np\n",
    "for gamma in [0.001,0.01, 0.1, 1, 10,100]:\n",
    "    for C in [0.001,0.01, 0.1, 1, 10,100]:\n",
    "        \n",
    "        svm=SVC(gamma=gamma, C=C)\n",
    "        \n",
    "        \n",
    "        scores = cross_val_score(svm, X_trainval, y_trainval, cv=10)\n",
    "        score=np.mean(scores)\n",
    "        \n",
    "        if score> best_score:\n",
    "            best_score=score\n",
    "            best_parameters = {'C': C, 'gamma': gamma}\n",
    "            \n",
    "svm = SVC(**best_parameters)\n",
    "svm.fit(X_trainval, y_trainval)"
   ]
  },
  {
   "cell_type": "code",
   "execution_count": 12,
   "id": "57cdb583",
   "metadata": {},
   "outputs": [
    {
     "data": {
      "text/html": [
       "<style>#sk-container-id-2 {color: black;}#sk-container-id-2 pre{padding: 0;}#sk-container-id-2 div.sk-toggleable {background-color: white;}#sk-container-id-2 label.sk-toggleable__label {cursor: pointer;display: block;width: 100%;margin-bottom: 0;padding: 0.3em;box-sizing: border-box;text-align: center;}#sk-container-id-2 label.sk-toggleable__label-arrow:before {content: \"▸\";float: left;margin-right: 0.25em;color: #696969;}#sk-container-id-2 label.sk-toggleable__label-arrow:hover:before {color: black;}#sk-container-id-2 div.sk-estimator:hover label.sk-toggleable__label-arrow:before {color: black;}#sk-container-id-2 div.sk-toggleable__content {max-height: 0;max-width: 0;overflow: hidden;text-align: left;background-color: #f0f8ff;}#sk-container-id-2 div.sk-toggleable__content pre {margin: 0.2em;color: black;border-radius: 0.25em;background-color: #f0f8ff;}#sk-container-id-2 input.sk-toggleable__control:checked~div.sk-toggleable__content {max-height: 200px;max-width: 100%;overflow: auto;}#sk-container-id-2 input.sk-toggleable__control:checked~label.sk-toggleable__label-arrow:before {content: \"▾\";}#sk-container-id-2 div.sk-estimator input.sk-toggleable__control:checked~label.sk-toggleable__label {background-color: #d4ebff;}#sk-container-id-2 div.sk-label input.sk-toggleable__control:checked~label.sk-toggleable__label {background-color: #d4ebff;}#sk-container-id-2 input.sk-hidden--visually {border: 0;clip: rect(1px 1px 1px 1px);clip: rect(1px, 1px, 1px, 1px);height: 1px;margin: -1px;overflow: hidden;padding: 0;position: absolute;width: 1px;}#sk-container-id-2 div.sk-estimator {font-family: monospace;background-color: #f0f8ff;border: 1px dotted black;border-radius: 0.25em;box-sizing: border-box;margin-bottom: 0.5em;}#sk-container-id-2 div.sk-estimator:hover {background-color: #d4ebff;}#sk-container-id-2 div.sk-parallel-item::after {content: \"\";width: 100%;border-bottom: 1px solid gray;flex-grow: 1;}#sk-container-id-2 div.sk-label:hover label.sk-toggleable__label {background-color: #d4ebff;}#sk-container-id-2 div.sk-serial::before {content: \"\";position: absolute;border-left: 1px solid gray;box-sizing: border-box;top: 0;bottom: 0;left: 50%;z-index: 0;}#sk-container-id-2 div.sk-serial {display: flex;flex-direction: column;align-items: center;background-color: white;padding-right: 0.2em;padding-left: 0.2em;position: relative;}#sk-container-id-2 div.sk-item {position: relative;z-index: 1;}#sk-container-id-2 div.sk-parallel {display: flex;align-items: stretch;justify-content: center;background-color: white;position: relative;}#sk-container-id-2 div.sk-item::before, #sk-container-id-2 div.sk-parallel-item::before {content: \"\";position: absolute;border-left: 1px solid gray;box-sizing: border-box;top: 0;bottom: 0;left: 50%;z-index: -1;}#sk-container-id-2 div.sk-parallel-item {display: flex;flex-direction: column;z-index: 1;position: relative;background-color: white;}#sk-container-id-2 div.sk-parallel-item:first-child::after {align-self: flex-end;width: 50%;}#sk-container-id-2 div.sk-parallel-item:last-child::after {align-self: flex-start;width: 50%;}#sk-container-id-2 div.sk-parallel-item:only-child::after {width: 0;}#sk-container-id-2 div.sk-dashed-wrapped {border: 1px dashed gray;margin: 0 0.4em 0.5em 0.4em;box-sizing: border-box;padding-bottom: 0.4em;background-color: white;}#sk-container-id-2 div.sk-label label {font-family: monospace;font-weight: bold;display: inline-block;line-height: 1.2em;}#sk-container-id-2 div.sk-label-container {text-align: center;}#sk-container-id-2 div.sk-container {/* jupyter's `normalize.less` sets `[hidden] { display: none; }` but bootstrap.min.css set `[hidden] { display: none !important; }` so we also need the `!important` here to be able to override the default hidden behavior on the sphinx rendered scikit-learn.org. See: https://github.com/scikit-learn/scikit-learn/issues/21755 */display: inline-block !important;position: relative;}#sk-container-id-2 div.sk-text-repr-fallback {display: none;}</style><div id=\"sk-container-id-2\" class=\"sk-top-container\"><div class=\"sk-text-repr-fallback\"><pre>GridSearchCV(cv=10, estimator=SVC(),\n",
       "             param_grid={&#x27;C&#x27;: [0.001, 0.01, 0.1, 1, 10, 100],\n",
       "                         &#x27;gamma&#x27;: [0.001, 0.01, 0.1, 1, 10, 100]})</pre><b>In a Jupyter environment, please rerun this cell to show the HTML representation or trust the notebook. <br />On GitHub, the HTML representation is unable to render, please try loading this page with nbviewer.org.</b></div><div class=\"sk-container\" hidden><div class=\"sk-item sk-dashed-wrapped\"><div class=\"sk-label-container\"><div class=\"sk-label sk-toggleable\"><input class=\"sk-toggleable__control sk-hidden--visually\" id=\"sk-estimator-id-2\" type=\"checkbox\" ><label for=\"sk-estimator-id-2\" class=\"sk-toggleable__label sk-toggleable__label-arrow\">GridSearchCV</label><div class=\"sk-toggleable__content\"><pre>GridSearchCV(cv=10, estimator=SVC(),\n",
       "             param_grid={&#x27;C&#x27;: [0.001, 0.01, 0.1, 1, 10, 100],\n",
       "                         &#x27;gamma&#x27;: [0.001, 0.01, 0.1, 1, 10, 100]})</pre></div></div></div><div class=\"sk-parallel\"><div class=\"sk-parallel-item\"><div class=\"sk-item\"><div class=\"sk-label-container\"><div class=\"sk-label sk-toggleable\"><input class=\"sk-toggleable__control sk-hidden--visually\" id=\"sk-estimator-id-3\" type=\"checkbox\" ><label for=\"sk-estimator-id-3\" class=\"sk-toggleable__label sk-toggleable__label-arrow\">estimator: SVC</label><div class=\"sk-toggleable__content\"><pre>SVC()</pre></div></div></div><div class=\"sk-serial\"><div class=\"sk-item\"><div class=\"sk-estimator sk-toggleable\"><input class=\"sk-toggleable__control sk-hidden--visually\" id=\"sk-estimator-id-4\" type=\"checkbox\" ><label for=\"sk-estimator-id-4\" class=\"sk-toggleable__label sk-toggleable__label-arrow\">SVC</label><div class=\"sk-toggleable__content\"><pre>SVC()</pre></div></div></div></div></div></div></div></div></div></div>"
      ],
      "text/plain": [
       "GridSearchCV(cv=10, estimator=SVC(),\n",
       "             param_grid={'C': [0.001, 0.01, 0.1, 1, 10, 100],\n",
       "                         'gamma': [0.001, 0.01, 0.1, 1, 10, 100]})"
      ]
     },
     "execution_count": 12,
     "metadata": {},
     "output_type": "execute_result"
    }
   ],
   "source": [
    "from sklearn.model_selection import GridSearchCV\n",
    "from sklearn.svm import SVC\n",
    "param_grid={'C':[0.001,0.01, 0.1, 1, 10,100],\n",
    "          'gamma': [0.001,0.01, 0.1, 1, 10,100]}\n",
    "grid_search = GridSearchCV(SVC(),param_grid,cv=10)\n",
    "X_train,X_test,y_train,y_test = train_test_split(wine.data,wine.target, random_state=0)\n",
    "grid_search.fit(X_train, y_train)"
   ]
  },
  {
   "cell_type": "code",
   "execution_count": 13,
   "id": "d52cf14f",
   "metadata": {},
   "outputs": [
    {
     "name": "stdout",
     "output_type": "stream",
     "text": [
      "правильность на тестовом наборе: 0.82\n"
     ]
    }
   ],
   "source": [
    "print(\"правильность на тестовом наборе: {:.2f}\".format(grid_search.score(X_test, y_test)))"
   ]
  },
  {
   "cell_type": "code",
   "execution_count": 14,
   "id": "fee34355",
   "metadata": {},
   "outputs": [
    {
     "name": "stdout",
     "output_type": "stream",
     "text": [
      "наилучшее значение параметров: {'C': 100, 'gamma': 0.001}\n",
      "наилучшее значение кросс-валидац. правильности: 0.76\n",
      "наилучшая модель:\n",
      "SVC(C=100, gamma=0.001)\n"
     ]
    }
   ],
   "source": [
    "print(\"наилучшее значение параметров: {}\".format(grid_search.best_params_))\n",
    "print(\"наилучшее значение кросс-валидац. правильности: {:.2f}\".format(grid_search.best_score_))\n",
    "print(\"наилучшая модель:\\n{}\".format(grid_search.best_estimator_))"
   ]
  },
  {
   "cell_type": "code",
   "execution_count": 15,
   "id": "7d1dc035",
   "metadata": {},
   "outputs": [
    {
     "data": {
      "text/html": [
       "<div>\n",
       "<style scoped>\n",
       "    .dataframe tbody tr th:only-of-type {\n",
       "        vertical-align: middle;\n",
       "    }\n",
       "\n",
       "    .dataframe tbody tr th {\n",
       "        vertical-align: top;\n",
       "    }\n",
       "\n",
       "    .dataframe thead th {\n",
       "        text-align: right;\n",
       "    }\n",
       "</style>\n",
       "<table border=\"1\" class=\"dataframe\">\n",
       "  <thead>\n",
       "    <tr style=\"text-align: right;\">\n",
       "      <th></th>\n",
       "      <th>mean_fit_time</th>\n",
       "      <th>std_fit_time</th>\n",
       "      <th>mean_score_time</th>\n",
       "      <th>std_score_time</th>\n",
       "      <th>param_C</th>\n",
       "      <th>param_gamma</th>\n",
       "      <th>params</th>\n",
       "      <th>split0_test_score</th>\n",
       "      <th>split1_test_score</th>\n",
       "      <th>split2_test_score</th>\n",
       "      <th>split3_test_score</th>\n",
       "      <th>split4_test_score</th>\n",
       "      <th>split5_test_score</th>\n",
       "      <th>split6_test_score</th>\n",
       "      <th>split7_test_score</th>\n",
       "      <th>split8_test_score</th>\n",
       "      <th>split9_test_score</th>\n",
       "      <th>mean_test_score</th>\n",
       "      <th>std_test_score</th>\n",
       "      <th>rank_test_score</th>\n",
       "    </tr>\n",
       "  </thead>\n",
       "  <tbody>\n",
       "    <tr>\n",
       "      <th>0</th>\n",
       "      <td>0.002945</td>\n",
       "      <td>0.005084</td>\n",
       "      <td>0.000459</td>\n",
       "      <td>0.000944</td>\n",
       "      <td>0.001</td>\n",
       "      <td>0.001</td>\n",
       "      <td>{'C': 0.001, 'gamma': 0.001}</td>\n",
       "      <td>0.357143</td>\n",
       "      <td>0.357143</td>\n",
       "      <td>0.357143</td>\n",
       "      <td>0.384615</td>\n",
       "      <td>0.384615</td>\n",
       "      <td>0.384615</td>\n",
       "      <td>0.384615</td>\n",
       "      <td>0.384615</td>\n",
       "      <td>0.384615</td>\n",
       "      <td>0.384615</td>\n",
       "      <td>0.376374</td>\n",
       "      <td>0.012589</td>\n",
       "      <td>11</td>\n",
       "    </tr>\n",
       "    <tr>\n",
       "      <th>1</th>\n",
       "      <td>0.001854</td>\n",
       "      <td>0.003638</td>\n",
       "      <td>0.001858</td>\n",
       "      <td>0.004046</td>\n",
       "      <td>0.001</td>\n",
       "      <td>0.01</td>\n",
       "      <td>{'C': 0.001, 'gamma': 0.01}</td>\n",
       "      <td>0.357143</td>\n",
       "      <td>0.357143</td>\n",
       "      <td>0.357143</td>\n",
       "      <td>0.384615</td>\n",
       "      <td>0.384615</td>\n",
       "      <td>0.384615</td>\n",
       "      <td>0.384615</td>\n",
       "      <td>0.384615</td>\n",
       "      <td>0.384615</td>\n",
       "      <td>0.384615</td>\n",
       "      <td>0.376374</td>\n",
       "      <td>0.012589</td>\n",
       "      <td>11</td>\n",
       "    </tr>\n",
       "    <tr>\n",
       "      <th>2</th>\n",
       "      <td>0.003316</td>\n",
       "      <td>0.004240</td>\n",
       "      <td>0.000000</td>\n",
       "      <td>0.000000</td>\n",
       "      <td>0.001</td>\n",
       "      <td>0.1</td>\n",
       "      <td>{'C': 0.001, 'gamma': 0.1}</td>\n",
       "      <td>0.357143</td>\n",
       "      <td>0.357143</td>\n",
       "      <td>0.357143</td>\n",
       "      <td>0.384615</td>\n",
       "      <td>0.384615</td>\n",
       "      <td>0.384615</td>\n",
       "      <td>0.384615</td>\n",
       "      <td>0.384615</td>\n",
       "      <td>0.384615</td>\n",
       "      <td>0.384615</td>\n",
       "      <td>0.376374</td>\n",
       "      <td>0.012589</td>\n",
       "      <td>11</td>\n",
       "    </tr>\n",
       "    <tr>\n",
       "      <th>3</th>\n",
       "      <td>0.001582</td>\n",
       "      <td>0.004747</td>\n",
       "      <td>0.003166</td>\n",
       "      <td>0.005983</td>\n",
       "      <td>0.001</td>\n",
       "      <td>1</td>\n",
       "      <td>{'C': 0.001, 'gamma': 1}</td>\n",
       "      <td>0.357143</td>\n",
       "      <td>0.357143</td>\n",
       "      <td>0.357143</td>\n",
       "      <td>0.384615</td>\n",
       "      <td>0.384615</td>\n",
       "      <td>0.384615</td>\n",
       "      <td>0.384615</td>\n",
       "      <td>0.384615</td>\n",
       "      <td>0.384615</td>\n",
       "      <td>0.384615</td>\n",
       "      <td>0.376374</td>\n",
       "      <td>0.012589</td>\n",
       "      <td>11</td>\n",
       "    </tr>\n",
       "    <tr>\n",
       "      <th>4</th>\n",
       "      <td>0.003168</td>\n",
       "      <td>0.006336</td>\n",
       "      <td>0.000000</td>\n",
       "      <td>0.000000</td>\n",
       "      <td>0.001</td>\n",
       "      <td>10</td>\n",
       "      <td>{'C': 0.001, 'gamma': 10}</td>\n",
       "      <td>0.357143</td>\n",
       "      <td>0.357143</td>\n",
       "      <td>0.357143</td>\n",
       "      <td>0.384615</td>\n",
       "      <td>0.384615</td>\n",
       "      <td>0.384615</td>\n",
       "      <td>0.384615</td>\n",
       "      <td>0.384615</td>\n",
       "      <td>0.384615</td>\n",
       "      <td>0.384615</td>\n",
       "      <td>0.376374</td>\n",
       "      <td>0.012589</td>\n",
       "      <td>11</td>\n",
       "    </tr>\n",
       "  </tbody>\n",
       "</table>\n",
       "</div>"
      ],
      "text/plain": [
       "   mean_fit_time  std_fit_time  mean_score_time  std_score_time param_C  \\\n",
       "0       0.002945      0.005084         0.000459        0.000944   0.001   \n",
       "1       0.001854      0.003638         0.001858        0.004046   0.001   \n",
       "2       0.003316      0.004240         0.000000        0.000000   0.001   \n",
       "3       0.001582      0.004747         0.003166        0.005983   0.001   \n",
       "4       0.003168      0.006336         0.000000        0.000000   0.001   \n",
       "\n",
       "  param_gamma                        params  split0_test_score  \\\n",
       "0       0.001  {'C': 0.001, 'gamma': 0.001}           0.357143   \n",
       "1        0.01   {'C': 0.001, 'gamma': 0.01}           0.357143   \n",
       "2         0.1    {'C': 0.001, 'gamma': 0.1}           0.357143   \n",
       "3           1      {'C': 0.001, 'gamma': 1}           0.357143   \n",
       "4          10     {'C': 0.001, 'gamma': 10}           0.357143   \n",
       "\n",
       "   split1_test_score  split2_test_score  split3_test_score  split4_test_score  \\\n",
       "0           0.357143           0.357143           0.384615           0.384615   \n",
       "1           0.357143           0.357143           0.384615           0.384615   \n",
       "2           0.357143           0.357143           0.384615           0.384615   \n",
       "3           0.357143           0.357143           0.384615           0.384615   \n",
       "4           0.357143           0.357143           0.384615           0.384615   \n",
       "\n",
       "   split5_test_score  split6_test_score  split7_test_score  split8_test_score  \\\n",
       "0           0.384615           0.384615           0.384615           0.384615   \n",
       "1           0.384615           0.384615           0.384615           0.384615   \n",
       "2           0.384615           0.384615           0.384615           0.384615   \n",
       "3           0.384615           0.384615           0.384615           0.384615   \n",
       "4           0.384615           0.384615           0.384615           0.384615   \n",
       "\n",
       "   split9_test_score  mean_test_score  std_test_score  rank_test_score  \n",
       "0           0.384615         0.376374        0.012589               11  \n",
       "1           0.384615         0.376374        0.012589               11  \n",
       "2           0.384615         0.376374        0.012589               11  \n",
       "3           0.384615         0.376374        0.012589               11  \n",
       "4           0.384615         0.376374        0.012589               11  "
      ]
     },
     "metadata": {},
     "output_type": "display_data"
    }
   ],
   "source": [
    "results = pd.DataFrame(grid_search.cv_results_)\n",
    "display(results.head())"
   ]
  },
  {
   "cell_type": "code",
   "execution_count": 16,
   "id": "b0a35de7",
   "metadata": {},
   "outputs": [
    {
     "data": {
      "image/png": "[encoded data removed]",
      "text/plain": [
       "<Figure size 640x480 with 2 Axes>"
      ]
     },
     "metadata": {},
     "output_type": "display_data"
    }
   ],
   "source": [
    "import seaborn as sns\n",
    "import matplotlib.pyplot as plt\n",
    "scores = np.array(results.mean_test_score).reshape(6,6)\n",
    "\n",
    "ax = sns.heatmap(scores, annot=True, xticklabels=param_grid['gamma'], yticklabels=param_grid['C'], cmap='hsv')\n",
    "ax.set(xlabel=\"gamma\", ylabel=\"C\")\n",
    "ax.xaxis.tick_top()\n",
    "plt.show()"
   ]
  },
  {
   "cell_type": "markdown",
   "id": "9c827162",
   "metadata": {},
   "source": [
    "## Метрики модели"
   ]
  },
  {
   "cell_type": "code",
   "execution_count": 17,
   "id": "c8405617",
   "metadata": {},
   "outputs": [],
   "source": [
    "from sklearn.datasets import load_wine\n",
    "wine=load_wine()\n",
    "X = wine.data\n",
    "y = wine.target\n",
    "y_binary = (y == 0)\n",
    "\n",
    "X_train,X_test,y_train,y_test = train_test_split(X, y_binary , random_state=0)"
   ]
  },
  {
   "cell_type": "code",
   "execution_count": 18,
   "id": "74843d6d",
   "metadata": {},
   "outputs": [
    {
     "name": "stdout",
     "output_type": "stream",
     "text": [
      "Уникальные спрогнозированные метки: [False]\n",
      "правильность на тестовом наборе : 0.64\n"
     ]
    }
   ],
   "source": [
    "from sklearn.dummy import DummyClassifier\n",
    "dummy_majority = DummyClassifier(strategy='most_frequent').fit(X_train, y_train)\n",
    "pred_most_frequent = dummy_majority.predict(X_test)\n",
    "print('Уникальные спрогнозированные метки: {}'.format(np.unique(pred_most_frequent)))\n",
    "print('правильность на тестовом наборе : {:.2f}'.format(dummy_majority.score(X_test, y_test)))"
   ]
  },
  {
   "cell_type": "code",
   "execution_count": 19,
   "id": "31e1f4d9",
   "metadata": {},
   "outputs": [
    {
     "name": "stdout",
     "output_type": "stream",
     "text": [
      "правильность на тестовом наборе: 0.98\n"
     ]
    }
   ],
   "source": [
    "from sklearn.tree import DecisionTreeClassifier\n",
    "tree = DecisionTreeClassifier(max_depth=2).fit(X_train, y_train)\n",
    "pred_tree = tree.predict(X_test)\n",
    "print('правильность на тестовом наборе: {:.2f}'.format(tree.score(X_test, y_test)))"
   ]
  },
  {
   "cell_type": "code",
   "execution_count": 20,
   "id": "11e44376",
   "metadata": {},
   "outputs": [
    {
     "name": "stdout",
     "output_type": "stream",
     "text": [
      "правильность dummy : 0.64\n",
      "правильность logreg : 0.98\n"
     ]
    }
   ],
   "source": [
    "from sklearn.dummy import DummyClassifier\n",
    "dummy = DummyClassifier().fit(X_train, y_train)\n",
    "pred_dummy = dummy.predict(X_test)\n",
    "print('правильность dummy : {:.2f}'.format(dummy.score(X_test, y_test)))\n",
    "logreg  = LogisticRegression(C=0.1, max_iter=10000).fit(X_train, y_train)\n",
    "pred_logreg = logreg.predict(X_test)\n",
    "print('правильность logreg : {:.2f}'.format(logreg.score(X_test, y_test)))"
   ]
  },
  {
   "cell_type": "code",
   "execution_count": 21,
   "id": "73652083",
   "metadata": {},
   "outputs": [
    {
     "name": "stdout",
     "output_type": "stream",
     "text": [
      "Confusion matrix:\n",
      "[[29  0]\n",
      " [ 1 15]]\n"
     ]
    }
   ],
   "source": [
    "from sklearn.metrics import confusion_matrix\n",
    "confusion= confusion_matrix(y_test,pred_logreg)\n",
    "print(\"Confusion matrix:\\n{}\".format(confusion))"
   ]
  },
  {
   "cell_type": "code",
   "execution_count": 38,
   "id": "9aaf71e6",
   "metadata": {},
   "outputs": [],
   "source": [
    "import mglearn\n"
   ]
  },
  {
   "cell_type": "code",
   "execution_count": null,
   "id": "f4c6a118",
   "metadata": {},
   "outputs": [],
   "source": []
  },
  {
   "cell_type": "code",
   "execution_count": 24,
   "id": "b4d668b6",
   "metadata": {},
   "outputs": [
    {
     "name": "stdout",
     "output_type": "stream",
     "text": [
      " Наиболее часто встречающийся класс:\n",
      "[[29  0]\n",
      " [16  0]]\n",
      "\n",
      " Дамми-модель:\n",
      "[[29  0]\n",
      " [16  0]]\n",
      "\n",
      " Дерево решений:\n",
      "[[29  0]\n",
      " [ 1 15]]\n",
      "\n",
      " Логическая регрессия:\n",
      "[[29  0]\n",
      " [ 1 15]]\n"
     ]
    }
   ],
   "source": [
    "print(\" Наиболее часто встречающийся класс:\")\n",
    "print(confusion_matrix(y_test, pred_most_frequent))\n",
    "print(\"\\n Дамми-модель:\")\n",
    "print(confusion_matrix(y_test, pred_dummy))\n",
    "print(\"\\n Дерево решений:\")\n",
    "print(confusion_matrix(y_test, pred_tree))\n",
    "print(\"\\n Логическая регрессия:\")\n",
    "print(confusion_matrix(y_test, pred_logreg))"
   ]
  },
  {
   "cell_type": "code",
   "execution_count": 25,
   "id": "d0ef1c6b",
   "metadata": {},
   "outputs": [
    {
     "name": "stdout",
     "output_type": "stream",
     "text": [
      "f1-мера наибольшая частота: 0.00\n",
      "f1- мера Дамми-модель: 0.00\n",
      "f1- мера Дерево решений: 0.97\n",
      "f1- мера Логическая регрессия: 0.97\n"
     ]
    }
   ],
   "source": [
    "from sklearn.metrics import f1_score\n",
    "print(\"f1-мера наибольшая частота: {:.2f}\".format(f1_score(y_test, pred_most_frequent)))\n",
    "print(\"f1- мера Дамми-модель: {:.2f}\".format(f1_score(y_test, pred_dummy)))\n",
    "print(\"f1- мера Дерево решений: {:.2f}\".format(f1_score(y_test, pred_tree)))\n",
    "print(\"f1- мера Логическая регрессия: {:.2f}\".format(f1_score(y_test, pred_logreg)))\n"
   ]
  },
  {
   "cell_type": "code",
   "execution_count": 26,
   "id": "9fa98207",
   "metadata": {},
   "outputs": [
    {
     "name": "stdout",
     "output_type": "stream",
     "text": [
      "              precision    recall  f1-score   support\n",
      "\n",
      "    not nine       0.64      1.00      0.78        29\n",
      "        nine       0.00      0.00      0.00        16\n",
      "\n",
      "    accuracy                           0.64        45\n",
      "   macro avg       0.32      0.50      0.39        45\n",
      "weighted avg       0.42      0.64      0.51        45\n",
      "\n"
     ]
    },
    {
     "name": "stderr",
     "output_type": "stream",
     "text": [
      "C:\\Users\\User\\anaconda3\\Lib\\site-packages\\sklearn\\metrics\\_classification.py:1469: UndefinedMetricWarning: Precision and F-score are ill-defined and being set to 0.0 in labels with no predicted samples. Use `zero_division` parameter to control this behavior.\n",
      "  _warn_prf(average, modifier, msg_start, len(result))\n",
      "C:\\Users\\User\\anaconda3\\Lib\\site-packages\\sklearn\\metrics\\_classification.py:1469: UndefinedMetricWarning: Precision and F-score are ill-defined and being set to 0.0 in labels with no predicted samples. Use `zero_division` parameter to control this behavior.\n",
      "  _warn_prf(average, modifier, msg_start, len(result))\n",
      "C:\\Users\\User\\anaconda3\\Lib\\site-packages\\sklearn\\metrics\\_classification.py:1469: UndefinedMetricWarning: Precision and F-score are ill-defined and being set to 0.0 in labels with no predicted samples. Use `zero_division` parameter to control this behavior.\n",
      "  _warn_prf(average, modifier, msg_start, len(result))\n"
     ]
    }
   ],
   "source": [
    "from sklearn.metrics import classification_report\n",
    "print(classification_report(y_test, pred_most_frequent, target_names=['not nine', 'nine']))"
   ]
  },
  {
   "cell_type": "code",
   "execution_count": 69,
   "id": "df94aeb9",
   "metadata": {},
   "outputs": [],
   "source": [
    "from mglearn.datasets import make_blobs\n",
    "X, y = make_blobs(n_samples=(400, 50), cluster_std=[7.0, 2], random_state=42)\n",
    "X_train, X_test, y_train, y_test = train_test_split(X, y, random_state=42)\n",
    "svc = SVC(gamma=.05).fit(X_train, y_train)\n",
    "from sklearn.metrics import precision_recall_curve\n",
    "precision, recall, thresholds = precision_recall_curve(y_test, svc.decision_function(X_test))"
   ]
  },
  {
   "cell_type": "code",
   "execution_count": 70,
   "id": "33bb4e82",
   "metadata": {},
   "outputs": [
    {
     "data": {
      "text/plain": [
       "<matplotlib.legend.Legend at 0x1bc67d96910>"
      ]
     },
     "execution_count": 70,
     "metadata": {},
     "output_type": "execute_result"
    },
    {
     "data": {
      "image/png": "[encoded data removed]",
      "text/plain": [
       "<Figure size 640x480 with 1 Axes>"
      ]
     },
     "metadata": {},
     "output_type": "display_data"
    }
   ],
   "source": [
    "from sklearn.ensemble import RandomForestClassifier \n",
    " \n",
    "rf = RandomForestClassifier(n_estimators=100, random_state=42, max_features=2) \n",
    "rf.fit(X_train, y_train) \n",
    " \n",
    "# RandomForestClassifier has predict_proba, but not decision_function \n",
    "precision_rf, recall_rf, thresholds_rf = precision_recall_curve( \n",
    "    y_test, rf.predict_proba(X_test)[:, 1]) \n",
    " \n",
    "plt.plot(precision, recall, label=\"svc\") \n",
    "close_zero = np.argmin(np.abs(thresholds - 0.5))\n",
    "\n",
    "plt.plot(precision[close_zero], recall[close_zero], 'o', markersize=10, label=\"threshold zero svc\", fillstyle=\"none\", c='k', mew=2)\n",
    "plt.plot(precision_rf, recall_rf, label=\"rf\") \n",
    " \n",
    "close_default_rf = np.argmin(np.abs(thresholds_rf - 0.5)) \n",
    "plt.plot(precision_rf[close_default_rf], recall_rf[close_default_rf], '^', c='k', \n",
    "         markersize=10, label=\"threshold 0.5 rf\", fillstyle=\"none\", mew=2) \n",
    "plt.xlabel(\"Precision\") \n",
    "plt.ylabel(\"Recall\") \n",
    "plt.legend(loc=\"best\")\n"
   ]
  },
  {
   "cell_type": "code",
   "execution_count": 71,
   "id": "b0b772e0",
   "metadata": {},
   "outputs": [
    {
     "name": "stdout",
     "output_type": "stream",
     "text": [
      "средняя точность rrandom forest: 0.838\n",
      "средняя точность svc: 0.819\n"
     ]
    }
   ],
   "source": [
    "from sklearn.metrics import average_precision_score\n",
    "ap_rf = average_precision_score(y_test, rf.predict_proba(X_test)[:, 1])\n",
    "ap_svc = average_precision_score(y_test, svc.decision_function(X_test))\n",
    "print(\"средняя точность rrandom forest: {:.3f}\".format(ap_rf))\n",
    "print(\"средняя точность svc: {:.3f}\".format(ap_svc))"
   ]
  },
  {
   "cell_type": "code",
   "execution_count": 72,
   "id": "53cc3aab",
   "metadata": {},
   "outputs": [
    {
     "name": "stdout",
     "output_type": "stream",
     "text": [
      "Accuracy: 0.978\n",
      "confusion matrix:\n",
      "[[16  0  0]\n",
      " [ 0 20  1]\n",
      " [ 0  0  8]]\n"
     ]
    }
   ],
   "source": [
    "from sklearn.metrics import accuracy_score\n",
    "X_train, X_test, y_train, y_test = train_test_split(wine.data, wine.target, random_state=0)\n",
    "lr = LogisticRegression(max_iter=5000).fit(X_train, y_train)\n",
    "pred= lr.predict(X_test)\n",
    "print(\"Accuracy: {:.3f}\".format(accuracy_score(y_test, pred)))\n",
    "print(\"confusion matrix:\\n{}\".format(confusion_matrix(y_test, pred)))"
   ]
  },
  {
   "cell_type": "code",
   "execution_count": 31,
   "id": "1f034de4",
   "metadata": {},
   "outputs": [
    {
     "data": {
      "image/png": "[encoded data removed]",
      "text/plain": [
       "<Figure size 640x480 with 2 Axes>"
      ]
     },
     "metadata": {},
     "output_type": "display_data"
    }
   ],
   "source": [
    "import seaborn as sns\n",
    "import matplotlib.pyplot as plt\n",
    "from sklearn.metrics import confusion_matrix\n",
    "ax = sns.heatmap(confusion_matrix(y_test, pred), annot=True, xticklabels=wine.target_names, yticklabels=wine.target_names, cmap='gray')\n",
    "ax.set(xlabel=\"Prediction label\", ylabel=\"True label\")\n",
    "ax.xaxis.tick_top()\n",
    "plt.title(\"Confusion Matrix\")\n",
    "plt.gca().invert_yaxis()\n",
    "plt.show()\n"
   ]
  },
  {
   "cell_type": "code",
   "execution_count": 32,
   "id": "b9cdcfe0",
   "metadata": {},
   "outputs": [
    {
     "name": "stdout",
     "output_type": "stream",
     "text": [
      "              precision    recall  f1-score   support\n",
      "\n",
      "           0       1.00      1.00      1.00        16\n",
      "           1       1.00      0.95      0.98        21\n",
      "           2       0.89      1.00      0.94         8\n",
      "\n",
      "    accuracy                           0.98        45\n",
      "   macro avg       0.96      0.98      0.97        45\n",
      "weighted avg       0.98      0.98      0.98        45\n",
      "\n"
     ]
    }
   ],
   "source": [
    "print(classification_report(y_test, pred))"
   ]
  },
  {
   "cell_type": "code",
   "execution_count": 33,
   "id": "90421da6",
   "metadata": {},
   "outputs": [
    {
     "name": "stdout",
     "output_type": "stream",
     "text": [
      "Micro average f1 score: 0.978\n",
      "Macro average f1 score: 0.972\n"
     ]
    }
   ],
   "source": [
    "\n",
    "print(\"Micro average f1 score: {:.3f}\".format(f1_score(y_test,pred, average=\"micro\")))\n",
    "print(\"Macro average f1 score: {:.3f}\".format(f1_score(y_test,pred, average=\"macro\")))"
   ]
  },
  {
   "cell_type": "code",
   "execution_count": 34,
   "id": "56e2f8c9",
   "metadata": {},
   "outputs": [
    {
     "name": "stdout",
     "output_type": "stream",
     "text": [
      "Метрика качества по умолчанию: [0.88888889 0.88888889 0.88888889 0.88888889 0.88888889]\n",
      "Метрика качества явно заданная правильность: [0.88888889 0.88888889 0.88888889 0.88888889 0.88888889]\n",
      "AUC: [0.9225  0.95375 0.9325  0.945   0.94625]\n"
     ]
    }
   ],
   "source": [
    "print(\"Метрика качества по умолчанию: {}\".format(cross_val_score(SVC(), X, y)))\n",
    "explicit_accuracy = cross_val_score(SVC(), X, y, scoring='accuracy')\n",
    "print(\"Метрика качества явно заданная правильность: {}\".format(explicit_accuracy))\n",
    "roc_auc = cross_val_score(SVC(), X, y, scoring='roc_auc')\n",
    "print(\"AUC: {}\".format(roc_auc))\n"
   ]
  },
  {
   "cell_type": "code",
   "execution_count": 35,
   "id": "0bf92b90",
   "metadata": {},
   "outputs": [
    {
     "name": "stdout",
     "output_type": "stream",
     "text": [
      "решетчатый поиск с использованием правильности\n",
      "наилучшие параметры: {'gamma': 0.0001}\n",
      "наилучшее значение перекр проверки (правильность): 0.894\n",
      "AUC на тестовом наборе: 0.922\n",
      "правильность на  тестовом наборе: 0.867\n"
     ]
    }
   ],
   "source": [
    "from sklearn.metrics import roc_auc_score\n",
    "from sklearn.svm import SVC\n",
    "X_train, X_test, y_train, y_test = train_test_split(X, y, test_size=0.2, random_state=42)\n",
    "param_grid= {'gamma': [0.0001,0.001, 0.01, 0.1, 1,10]}\n",
    "grid = GridSearchCV(SVC(), param_grid= param_grid)\n",
    "grid.fit(X_train, y_train)\n",
    "print(\"решетчатый поиск с использованием правильности\")\n",
    "print(\"наилучшие параметры:\", grid.best_params_)\n",
    "print(\"наилучшее значение перекр проверки (правильность): {:.3f}\".format(grid.best_score_))\n",
    "print(\"AUC на тестовом наборе: {:.3f}\".format(roc_auc_score(y_test, grid.decision_function(X_test))))\n",
    "print(\"правильность на  тестовом наборе: {:.3f}\".format(grid.score(X_test, y_test)))"
   ]
  },
  {
   "cell_type": "code",
   "execution_count": 37,
   "id": "56827d64",
   "metadata": {},
   "outputs": [
    {
     "name": "stdout",
     "output_type": "stream",
     "text": [
      "решетчатый поиск AUC\n",
      "наилучшие параметры: {'gamma': 0.001}\n",
      "наилучшее значение перекр проверки (правильность): 0.936\n",
      "AUC на тестовом наборе: 0.954\n",
      "правильность на  тестовом наборе: 0.954\n"
     ]
    }
   ],
   "source": [
    "grid = GridSearchCV(SVC(), param_grid= param_grid, scoring=\"roc_auc\")\n",
    "grid.fit(X_train, y_train)\n",
    "print(\"решетчатый поиск AUC\")\n",
    "print(\"наилучшие параметры:\", grid.best_params_)\n",
    "print(\"наилучшее значение перекр проверки (правильность): {:.3f}\".format(grid.best_score_))\n",
    "print(\"AUC на тестовом наборе: {:.3f}\".format(roc_auc_score(y_test, grid.decision_function(X_test))))\n",
    "print(\"правильность на  тестовом наборе: {:.3f}\".format(grid.score(X_test, y_test)))"
   ]
  },
  {
   "cell_type": "code",
   "execution_count": null,
   "id": "1f2670f9",
   "metadata": {},
   "outputs": [],
   "source": []
  },
  {
   "cell_type": "markdown",
   "id": "df12f9b9",
   "metadata": {},
   "source": [
    "Средняя правильность перекрестной проверки: 0.96, что является усредненной оценкой точности модели на различных разбиениях данных.\n",
    "\n",
    "Модель демонстрирует высокие показатели точности как на тренировочных (от 0.993 до 1), так и на тестовых данных (от 0.916 до 1). Средняя точность на тестовых данных составляет 0.96, что также говорит о хорошей производительности модели на новых данных"
   ]
  },
  {
   "cell_type": "markdown",
   "id": "142c4c14",
   "metadata": {},
   "source": [
    "Оценка на тестовом наборе данных с использованием перекрестной проверки позволяет убедиться в том, что модель имеет хорошую производительность на новых данных, что важно для обеспечения надежности прогнозов. Значение правильности на тестовом наборе (0.84) довольно близко к значению, полученному на проверочном наборе (0.79), что указывает на стабильность модели при работе с разными подмножествами данных. Это подтверждает, что выбранные параметры {'C': 10, 'gamma': 0.001} работают хорошо и позволяют модели давать достаточно точные прогнозы на новых данных."
   ]
  },
  {
   "cell_type": "markdown",
   "id": "ac2e8af9",
   "metadata": {},
   "source": [
    "Dummy модель показала точность 0.64. Это простейшая модель, которая может случайным образом предсказывать результаты. Точность 0.64 говорит о том, что другие модели должны превзойти это значение, чтобы считаться эффективными.\n",
    "\n",
    "Модель логистической регрессии (logreg) показала высокую точность 0.98. Это свидетельствует о том, что данная модель хорошо подходит для решения задачи классификации данных.\n",
    "\n",
    "Random Forest и SVC (Support Vector Classifier) показали средние точности 0.838 и 0.819 соответственно. Обе эти модели могут быть доработаны или подобраны другие параметры для улучшения их производительности.\n",
    "\n",
    "Из этих результатов видно, что logreg имеет самую высокую точность среди представленных моделей, в то время как остальные модели требуют дополнительной работы для улучшения их эффективности в данной задаче классификации."
   ]
  },
  {
   "cell_type": "code",
   "execution_count": null,
   "id": "edf05b6d",
   "metadata": {},
   "outputs": [],
   "source": []
  }
 ],
 "metadata": {
  "kernelspec": {
   "display_name": "Python 3 (ipykernel)",
   "language": "python",
   "name": "python3"
  },
  "language_info": {
   "codemirror_mode": {
    "name": "ipython",
    "version": 3
   },
   "file_extension": ".py",
   "mimetype": "text/x-python",
   "name": "python",
   "nbconvert_exporter": "python",
   "pygments_lexer": "ipython3",
   "version": "3.11.4"
  }
 },
 "nbformat": 4,
 "nbformat_minor": 5
}
